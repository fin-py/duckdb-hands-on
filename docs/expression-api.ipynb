{
 "cells": [
  {
   "cell_type": "markdown",
   "metadata": {},
   "source": [
    "# Expression API\n",
    "\n",
    "式を動的に構築し、インスタンス化するAPI"
   ]
  },
  {
   "cell_type": "code",
   "execution_count": 1,
   "metadata": {},
   "outputs": [
    {
     "name": "stdout",
     "output_type": "stream",
     "text": [
      "┌─────────────────┬───────────────┬──────────┬─────────────────────┐\n",
      "│ DEPARTURE_DELAY │ ARRIVAL_DELAY │ DISTANCE │ SCHEDULED_DEPARTURE │\n",
      "│     double      │    double     │  int64   │       double        │\n",
      "├─────────────────┼───────────────┼──────────┼─────────────────────┤\n",
      "│           -11.0 │         -22.0 │     1448 │ 0.08333333333333333 │\n",
      "│            -8.0 │          -9.0 │     2330 │ 0.16666666666666666 │\n",
      "│            -2.0 │           5.0 │     2296 │  0.3333333333333333 │\n",
      "│            -5.0 │          -9.0 │     2342 │  0.3333333333333333 │\n",
      "│            -1.0 │         -21.0 │     1448 │  0.4166666666666667 │\n",
      "│            -5.0 │           8.0 │     1589 │  0.4166666666666667 │\n",
      "│            -6.0 │         -17.0 │     1299 │  0.4166666666666667 │\n",
      "│            14.0 │         -10.0 │     2125 │                 0.5 │\n",
      "│           -11.0 │         -13.0 │     1464 │                 0.5 │\n",
      "│             3.0 │         -15.0 │     1747 │                 0.5 │\n",
      "│              ·  │            ·  │       ·  │                  ·  │\n",
      "│              ·  │            ·  │       ·  │                  ·  │\n",
      "│              ·  │            ·  │       ·  │                  ·  │\n",
      "│            NULL │          NULL │      546 │   7.083333333333333 │\n",
      "│            -6.0 │          -9.0 │      925 │   7.083333333333333 │\n",
      "│            -6.0 │           3.0 │     2039 │   7.083333333333333 │\n",
      "│             0.0 │         -26.0 │      990 │   7.083333333333333 │\n",
      "│             4.0 │           8.0 │     1642 │   7.083333333333333 │\n",
      "│            29.0 │          30.0 │      496 │   7.083333333333333 │\n",
      "│            -2.0 │         -18.0 │      842 │   7.083333333333333 │\n",
      "│            -7.0 │          -9.0 │      639 │   7.083333333333333 │\n",
      "│            -7.0 │         -51.0 │     2434 │   7.083333333333333 │\n",
      "│            -8.0 │          23.0 │      130 │   7.083333333333333 │\n",
      "├─────────────────┴───────────────┴──────────┴─────────────────────┤\n",
      "│ 1000 rows (20 shown)                                   4 columns │\n",
      "└──────────────────────────────────────────────────────────────────┘\n",
      "\n"
     ]
    }
   ],
   "source": [
    "import duckdb\n",
    "\n",
    "flights = duckdb.sql(\"\"\"\n",
    "SELECT\n",
    "    *\n",
    "FROM 'https://github.com/plotly/datasets/raw/refs/heads/master/2015_flights.parquet'\n",
    "\"\"\").limit(1000)\n",
    "flights.show()"
   ]
  },
  {
   "cell_type": "markdown",
   "metadata": {},
   "source": [
    "## Column Expression\n",
    "\n",
    "列名のインスタンス化"
   ]
  },
  {
   "cell_type": "code",
   "execution_count": 2,
   "metadata": {},
   "outputs": [
    {
     "data": {
      "text/plain": [
       "┌─────────────────┐\n",
       "│ DEPARTURE_DELAY │\n",
       "│     double      │\n",
       "├─────────────────┤\n",
       "│           -11.0 │\n",
       "│            -8.0 │\n",
       "│            -2.0 │\n",
       "│            -5.0 │\n",
       "│            -1.0 │\n",
       "│            -5.0 │\n",
       "│            -6.0 │\n",
       "│            14.0 │\n",
       "│           -11.0 │\n",
       "│             3.0 │\n",
       "│              ·  │\n",
       "│              ·  │\n",
       "│              ·  │\n",
       "│            NULL │\n",
       "│            -6.0 │\n",
       "│            -6.0 │\n",
       "│             0.0 │\n",
       "│             4.0 │\n",
       "│            29.0 │\n",
       "│            -2.0 │\n",
       "│            -7.0 │\n",
       "│            -7.0 │\n",
       "│            -8.0 │\n",
       "├─────────────────┤\n",
       "│    1000 rows    │\n",
       "│   (20 shown)    │\n",
       "└─────────────────┘"
      ]
     },
     "execution_count": 2,
     "metadata": {},
     "output_type": "execute_result"
    }
   ],
   "source": [
    "flights.select(duckdb.ColumnExpression(\"DEPARTURE_DELAY\"))"
   ]
  },
  {
   "cell_type": "markdown",
   "metadata": {},
   "source": [
    "- 複数列の場合はリストに `ColumnExpression` インスタンスを入れる\n",
    "- `ColumnExpression` インスタンスは式を評価、メソッドの実行ができる\n",
    "\n",
    "```{seealso}\n",
    "Common Operations\n",
    "\n",
    "https://duckdb.org/docs/api/python/expression#common-operations\n",
    "```"
   ]
  },
  {
   "cell_type": "code",
   "execution_count": 3,
   "metadata": {},
   "outputs": [
    {
     "data": {
      "text/plain": [
       "┌───────────────────────┬─────────────────────────┐\n",
       "│ (DEPARTURE_DELAY - 1) │ (ARRIVAL_DELAY IS NULL) │\n",
       "│        double         │         boolean         │\n",
       "├───────────────────────┼─────────────────────────┤\n",
       "│                 -12.0 │ false                   │\n",
       "│                  -9.0 │ false                   │\n",
       "│                  -3.0 │ false                   │\n",
       "│                  -6.0 │ false                   │\n",
       "│                  -2.0 │ false                   │\n",
       "│                  -6.0 │ false                   │\n",
       "│                  -7.0 │ false                   │\n",
       "│                  13.0 │ false                   │\n",
       "│                 -12.0 │ false                   │\n",
       "│                   2.0 │ false                   │\n",
       "│                    ·  │  ·                      │\n",
       "│                    ·  │  ·                      │\n",
       "│                    ·  │  ·                      │\n",
       "│                  NULL │ true                    │\n",
       "│                  -7.0 │ false                   │\n",
       "│                  -7.0 │ false                   │\n",
       "│                  -1.0 │ false                   │\n",
       "│                   3.0 │ false                   │\n",
       "│                  28.0 │ false                   │\n",
       "│                  -3.0 │ false                   │\n",
       "│                  -8.0 │ false                   │\n",
       "│                  -8.0 │ false                   │\n",
       "│                  -9.0 │ false                   │\n",
       "├───────────────────────┴─────────────────────────┤\n",
       "│ 1000 rows (20 shown)                  2 columns │\n",
       "└─────────────────────────────────────────────────┘"
      ]
     },
     "execution_count": 3,
     "metadata": {},
     "output_type": "execute_result"
    }
   ],
   "source": [
    "cols = [\n",
    "    duckdb.ColumnExpression(\"DEPARTURE_DELAY\") - 1,\n",
    "    duckdb.ColumnExpression(\"ARRIVAL_DELAY\").isnull(),\n",
    "]\n",
    "flights.select(*cols)"
   ]
  },
  {
   "cell_type": "markdown",
   "metadata": {},
   "source": [
    "## Star Expression\n",
    "\n",
    "- すべての列を選択\n",
    "- オプション（ `exclude` ）で特定の列を除外できる"
   ]
  },
  {
   "cell_type": "code",
   "execution_count": 4,
   "metadata": {},
   "outputs": [
    {
     "data": {
      "text/plain": [
       "┌─────────────────┬──────────┐\n",
       "│ DEPARTURE_DELAY │ DISTANCE │\n",
       "│     double      │  int64   │\n",
       "├─────────────────┼──────────┤\n",
       "│           -11.0 │     1448 │\n",
       "│            -8.0 │     2330 │\n",
       "│            -2.0 │     2296 │\n",
       "│            -5.0 │     2342 │\n",
       "│            -1.0 │     1448 │\n",
       "│            -5.0 │     1589 │\n",
       "│            -6.0 │     1299 │\n",
       "│            14.0 │     2125 │\n",
       "│           -11.0 │     1464 │\n",
       "│             3.0 │     1747 │\n",
       "│              ·  │       ·  │\n",
       "│              ·  │       ·  │\n",
       "│              ·  │       ·  │\n",
       "│            NULL │      546 │\n",
       "│            -6.0 │      925 │\n",
       "│            -6.0 │     2039 │\n",
       "│             0.0 │      990 │\n",
       "│             4.0 │     1642 │\n",
       "│            29.0 │      496 │\n",
       "│            -2.0 │      842 │\n",
       "│            -7.0 │      639 │\n",
       "│            -7.0 │     2434 │\n",
       "│            -8.0 │      130 │\n",
       "├─────────────────┴──────────┤\n",
       "│    1000 rows (20 shown)    │\n",
       "└────────────────────────────┘"
      ]
     },
     "execution_count": 4,
     "metadata": {},
     "output_type": "execute_result"
    }
   ],
   "source": [
    "flights.select(duckdb.StarExpression(exclude=[\"ARRIVAL_DELAY\", \"SCHEDULED_DEPARTURE\"]))"
   ]
  },
  {
   "cell_type": "markdown",
   "metadata": {},
   "source": [
    "## Constant Expression\n",
    "\n",
    "- 定数\n",
    "- Case ExpressionやFunction Expressionで利用できる"
   ]
  },
  {
   "cell_type": "code",
   "execution_count": 5,
   "metadata": {},
   "outputs": [
    {
     "data": {
      "text/plain": [
       "┌────────────┐\n",
       "│     1      │\n",
       "│   int32    │\n",
       "├────────────┤\n",
       "│          1 │\n",
       "│          1 │\n",
       "│          1 │\n",
       "│          1 │\n",
       "│          1 │\n",
       "│          1 │\n",
       "│          1 │\n",
       "│          1 │\n",
       "│          1 │\n",
       "│          1 │\n",
       "│          · │\n",
       "│          · │\n",
       "│          · │\n",
       "│          1 │\n",
       "│          1 │\n",
       "│          1 │\n",
       "│          1 │\n",
       "│          1 │\n",
       "│          1 │\n",
       "│          1 │\n",
       "│          1 │\n",
       "│          1 │\n",
       "│          1 │\n",
       "├────────────┤\n",
       "│ 1000 rows  │\n",
       "│ (20 shown) │\n",
       "└────────────┘"
      ]
     },
     "execution_count": 5,
     "metadata": {},
     "output_type": "execute_result"
    }
   ],
   "source": [
    "flights.select(duckdb.ConstantExpression(1))"
   ]
  },
  {
   "cell_type": "markdown",
   "metadata": {},
   "source": [
    "## Case Expression\n",
    "\n",
    "- `CASE WHEN (...) THEN (...) ELSE (...) END` 式を評価\n",
    "- デフォルトでは `ELSE` は `NULL` となり、 `.else(value = ...)` で `ELSE` を設定\n",
    "- `WHEN (...) THEN (...)` ブロックを `.when(condition = ..., value = ...)` として追加できる\n",
    "\n",
    "```{seealso}\n",
    "CASE Statement\n",
    "\n",
    "https://duckdb.org/docs/sql/expressions/case\n",
    "```"
   ]
  },
  {
   "cell_type": "code",
   "execution_count": 6,
   "metadata": {},
   "outputs": [
    {
     "data": {
      "text/plain": [
       "┌───────────────────────────────────────────────────────────┐\n",
       "│ CASE  WHEN ((DISTANCE < 1000)) THEN (0) ELSE DISTANCE END │\n",
       "│                           int64                           │\n",
       "├───────────────────────────────────────────────────────────┤\n",
       "│                                                      1448 │\n",
       "│                                                      2330 │\n",
       "│                                                      2296 │\n",
       "│                                                      2342 │\n",
       "│                                                      1448 │\n",
       "│                                                      1589 │\n",
       "│                                                      1299 │\n",
       "│                                                      2125 │\n",
       "│                                                      1464 │\n",
       "│                                                      1747 │\n",
       "│                                                         · │\n",
       "│                                                         · │\n",
       "│                                                         · │\n",
       "│                                                         0 │\n",
       "│                                                         0 │\n",
       "│                                                      2039 │\n",
       "│                                                         0 │\n",
       "│                                                      1642 │\n",
       "│                                                         0 │\n",
       "│                                                         0 │\n",
       "│                                                         0 │\n",
       "│                                                      2434 │\n",
       "│                                                         0 │\n",
       "├───────────────────────────────────────────────────────────┤\n",
       "│                   1000 rows (20 shown)                    │\n",
       "└───────────────────────────────────────────────────────────┘"
      ]
     },
     "execution_count": 6,
     "metadata": {},
     "output_type": "execute_result"
    }
   ],
   "source": [
    "distance = duckdb.ColumnExpression(\"DISTANCE\")\n",
    "case = duckdb.CaseExpression(\n",
    "    condition=(distance < 1000),\n",
    "    value=duckdb.ConstantExpression(0),\n",
    ").otherwise(distance)\n",
    "flights.select(case)"
   ]
  },
  {
   "cell_type": "markdown",
   "metadata": {},
   "source": [
    "## Function Expression\n",
    "\n",
    "- 関数を式として記述\n",
    "- 任意の数の引数を指定できる"
   ]
  },
  {
   "cell_type": "code",
   "execution_count": 7,
   "metadata": {},
   "outputs": [
    {
     "data": {
      "text/plain": [
       "┌──────────────────────┐\n",
       "│ abs(DEPARTURE_DELAY) │\n",
       "│        double        │\n",
       "├──────────────────────┤\n",
       "│                 11.0 │\n",
       "│                  8.0 │\n",
       "│                  2.0 │\n",
       "│                  5.0 │\n",
       "│                  1.0 │\n",
       "│                  5.0 │\n",
       "│                  6.0 │\n",
       "│                 14.0 │\n",
       "│                 11.0 │\n",
       "│                  3.0 │\n",
       "│                   ·  │\n",
       "│                   ·  │\n",
       "│                   ·  │\n",
       "│                 NULL │\n",
       "│                  6.0 │\n",
       "│                  6.0 │\n",
       "│                  0.0 │\n",
       "│                  4.0 │\n",
       "│                 29.0 │\n",
       "│                  2.0 │\n",
       "│                  7.0 │\n",
       "│                  7.0 │\n",
       "│                  8.0 │\n",
       "├──────────────────────┤\n",
       "│ 1000 rows (20 shown) │\n",
       "└──────────────────────┘"
      ]
     },
     "execution_count": 7,
     "metadata": {},
     "output_type": "execute_result"
    }
   ],
   "source": [
    "flights.select(\n",
    "    duckdb.FunctionExpression(\"abs\", duckdb.ColumnExpression(\"DEPARTURE_DELAY\"))\n",
    ")"
   ]
  },
  {
   "cell_type": "code",
   "execution_count": null,
   "metadata": {},
   "outputs": [],
   "source": []
  }
 ],
 "metadata": {
  "kernelspec": {
   "display_name": ".venv",
   "language": "python",
   "name": "python3"
  },
  "language_info": {
   "codemirror_mode": {
    "name": "ipython",
    "version": 3
   },
   "file_extension": ".py",
   "mimetype": "text/x-python",
   "name": "python",
   "nbconvert_exporter": "python",
   "pygments_lexer": "ipython3",
   "version": "3.12.5"
  }
 },
 "nbformat": 4,
 "nbformat_minor": 2
}
