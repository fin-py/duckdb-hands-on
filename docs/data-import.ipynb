{
 "cells": [
  {
   "cell_type": "markdown",
   "metadata": {},
   "source": [
    "# データのインポート"
   ]
  },
  {
   "cell_type": "markdown",
   "metadata": {},
   "source": [
    "## CSVファイル"
   ]
  },
  {
   "cell_type": "code",
   "execution_count": 1,
   "metadata": {
    "tags": [
     "remove-input",
     "remove-output"
    ]
   },
   "outputs": [
    {
     "data": {
      "text/html": [
       "<span style=\"None\">Connecting to &#x27;duckdb:///:memory:&#x27;</span>"
      ],
      "text/plain": [
       "Connecting to 'duckdb:///:memory:'"
      ]
     },
     "metadata": {},
     "output_type": "display_data"
    }
   ],
   "source": [
    "import duckdb\n",
    "\n",
    "%load_ext sql\n",
    "%sql duckdb:///:memory:\n",
    "\n",
    "%mkdir -p data"
   ]
  },
  {
   "cell_type": "markdown",
   "metadata": {},
   "source": [
    "::::{tab-set}\n",
    ":::{tab-item} python\n",
    ":sync: python\n",
    "\n",
    "```python\n",
    "import duckdb\n",
    "\n",
    "duckdb.sql(\n",
    "    \"COPY (SELECT database_name, database_oid FROM duckdb_schemas() WHERE database_oid = 1146) TO 'data/sample1.csv'\"\n",
    ")\n",
    "duckdb.sql(\n",
    "    \"COPY (SELECT database_name, database_oid FROM duckdb_schemas() WHERE database_oid = 0) TO 'data/sample2.csv'\"\n",
    ")\n",
    "```\n",
    ":::\n",
    "\n",
    ":::{tab-item} SQL\n",
    ":sync: sql\n",
    "\n",
    "```sql\n",
    "COPY (SELECT database_name, database_oid FROM duckdb_schemas() WHERE database_oid = 1146) TO 'data/sample1.csv';\n",
    "COPY (SELECT database_name, database_oid FROM duckdb_schemas() WHERE database_oid = 0) TO 'data/sample2.csv';\n",
    "```\n",
    ":::\n",
    "::::"
   ]
  },
  {
   "cell_type": "code",
   "execution_count": 2,
   "metadata": {
    "tags": [
     "remove-input",
     "remove-output"
    ]
   },
   "outputs": [
    {
     "data": {
      "text/html": [
       "<span style=\"None\">Running query in &#x27;duckdb:///:memory:&#x27;</span>"
      ],
      "text/plain": [
       "Running query in 'duckdb:///:memory:'"
      ]
     },
     "metadata": {},
     "output_type": "display_data"
    },
    {
     "data": {
      "text/html": [
       "<table>\n",
       "    <thead>\n",
       "        <tr>\n",
       "            <th>Count</th>\n",
       "        </tr>\n",
       "    </thead>\n",
       "    <tbody>\n",
       "    </tbody>\n",
       "</table>"
      ],
      "text/plain": [
       "+-------+\n",
       "| Count |\n",
       "+-------+\n",
       "+-------+"
      ]
     },
     "execution_count": 2,
     "metadata": {},
     "output_type": "execute_result"
    }
   ],
   "source": [
    "%%sql\n",
    "COPY (SELECT database_name, database_oid FROM duckdb_schemas() WHERE database_oid = 1146) TO 'data/sample1.csv';\n",
    "COPY (SELECT database_name, database_oid FROM duckdb_schemas() WHERE database_oid = 0) TO 'data/sample2.csv';"
   ]
  },
  {
   "cell_type": "code",
   "execution_count": 3,
   "metadata": {
    "tags": [
     "remove-input"
    ]
   },
   "outputs": [],
   "source": [
    "import duckdb\n",
    "\n",
    "duckdb.sql(\n",
    "    \"COPY (SELECT database_name, database_oid FROM duckdb_schemas() WHERE database_oid = 1146) TO 'data/sample1.csv'\"\n",
    ")\n",
    "duckdb.sql(\n",
    "    \"COPY (SELECT database_name, database_oid FROM duckdb_schemas() WHERE database_oid = 0) TO 'data/sample2.csv'\"\n",
    ")"
   ]
  },
  {
   "cell_type": "code",
   "execution_count": 4,
   "metadata": {},
   "outputs": [
    {
     "name": "stdout",
     "output_type": "stream",
     "text": [
      "database_name,database_oid\n",
      "memory,1146\n",
      "memory,1146\n",
      "memory,1146\n",
      "database_name,database_oid\n",
      "system,0\n",
      "system,0\n",
      "system,0\n"
     ]
    }
   ],
   "source": [
    "%cat data/sample*.csv"
   ]
  },
  {
   "cell_type": "markdown",
   "metadata": {},
   "source": [
    "`read_csv` によるCSVファイルの読み込み\n",
    "\n",
    "::::{tab-set}\n",
    ":::{tab-item} python\n",
    ":sync: python\n",
    "\n",
    "```python\n",
    "duckdb.read_csv(\"data/sample1.csv\")\n",
    "```\n",
    ":::\n",
    "\n",
    ":::{tab-item} SQL\n",
    ":sync: sql\n",
    "\n",
    "```sql\n",
    "SELECT * FROM read_csv(\"data/sample1.csv\")\n",
    "```\n",
    ":::\n",
    "::::"
   ]
  },
  {
   "cell_type": "code",
   "execution_count": 5,
   "metadata": {
    "tags": [
     "remove-input",
     "remove-output"
    ]
   },
   "outputs": [
    {
     "data": {
      "text/html": [
       "<span style=\"None\">Running query in &#x27;duckdb:///:memory:&#x27;</span>"
      ],
      "text/plain": [
       "Running query in 'duckdb:///:memory:'"
      ]
     },
     "metadata": {},
     "output_type": "display_data"
    },
    {
     "data": {
      "text/html": [
       "<table>\n",
       "    <thead>\n",
       "        <tr>\n",
       "            <th>database_name</th>\n",
       "            <th>database_oid</th>\n",
       "        </tr>\n",
       "    </thead>\n",
       "    <tbody>\n",
       "        <tr>\n",
       "            <td>memory</td>\n",
       "            <td>1146</td>\n",
       "        </tr>\n",
       "        <tr>\n",
       "            <td>memory</td>\n",
       "            <td>1146</td>\n",
       "        </tr>\n",
       "        <tr>\n",
       "            <td>memory</td>\n",
       "            <td>1146</td>\n",
       "        </tr>\n",
       "    </tbody>\n",
       "</table>"
      ],
      "text/plain": [
       "+---------------+--------------+\n",
       "| database_name | database_oid |\n",
       "+---------------+--------------+\n",
       "|     memory    |     1146     |\n",
       "|     memory    |     1146     |\n",
       "|     memory    |     1146     |\n",
       "+---------------+--------------+"
      ]
     },
     "execution_count": 5,
     "metadata": {},
     "output_type": "execute_result"
    }
   ],
   "source": [
    "%%sql\n",
    "SELECT * FROM read_csv(\"data/sample1.csv\")"
   ]
  },
  {
   "cell_type": "code",
   "execution_count": null,
   "metadata": {
    "tags": [
     "remove-input"
    ]
   },
   "outputs": [
    {
     "data": {
      "text/plain": [
       "┌───────────────┬──────────────┐\n",
       "│ database_name │ database_oid │\n",
       "│    varchar    │    int64     │\n",
       "├───────────────┼──────────────┤\n",
       "│ memory        │         1146 │\n",
       "│ memory        │         1146 │\n",
       "│ memory        │         1146 │\n",
       "└───────────────┴──────────────┘"
      ]
     },
     "execution_count": 6,
     "metadata": {},
     "output_type": "execute_result"
    }
   ],
   "source": [
    "duckdb.read_csv(\"data/sample1.csv\")"
   ]
  },
  {
   "cell_type": "markdown",
   "metadata": {},
   "source": [
    "複数ファイルの読み込み\n",
    "\n",
    "::::{tab-set}\n",
    ":::{tab-item} python\n",
    ":sync: python\n",
    "\n",
    "```python\n",
    "duckdb.read_csv(\"data/sample*.csv\")\n",
    "```\n",
    ":::\n",
    "\n",
    ":::{tab-item} SQL\n",
    ":sync: sql\n",
    "\n",
    "```sql\n",
    "SELECT * FROM read_csv(\"data/sample*.csv\")\n",
    "```\n",
    ":::\n",
    "::::"
   ]
  },
  {
   "cell_type": "code",
   "execution_count": 7,
   "metadata": {
    "tags": [
     "remove-input",
     "remove-output"
    ]
   },
   "outputs": [
    {
     "data": {
      "text/html": [
       "<span style=\"None\">Running query in &#x27;duckdb:///:memory:&#x27;</span>"
      ],
      "text/plain": [
       "Running query in 'duckdb:///:memory:'"
      ]
     },
     "metadata": {},
     "output_type": "display_data"
    },
    {
     "data": {
      "text/html": [
       "<table>\n",
       "    <thead>\n",
       "        <tr>\n",
       "            <th>database_name</th>\n",
       "            <th>database_oid</th>\n",
       "        </tr>\n",
       "    </thead>\n",
       "    <tbody>\n",
       "        <tr>\n",
       "            <td>memory</td>\n",
       "            <td>1146</td>\n",
       "        </tr>\n",
       "        <tr>\n",
       "            <td>memory</td>\n",
       "            <td>1146</td>\n",
       "        </tr>\n",
       "        <tr>\n",
       "            <td>memory</td>\n",
       "            <td>1146</td>\n",
       "        </tr>\n",
       "        <tr>\n",
       "            <td>system</td>\n",
       "            <td>0</td>\n",
       "        </tr>\n",
       "        <tr>\n",
       "            <td>system</td>\n",
       "            <td>0</td>\n",
       "        </tr>\n",
       "        <tr>\n",
       "            <td>system</td>\n",
       "            <td>0</td>\n",
       "        </tr>\n",
       "    </tbody>\n",
       "</table>"
      ],
      "text/plain": [
       "+---------------+--------------+\n",
       "| database_name | database_oid |\n",
       "+---------------+--------------+\n",
       "|     memory    |     1146     |\n",
       "|     memory    |     1146     |\n",
       "|     memory    |     1146     |\n",
       "|     system    |      0       |\n",
       "|     system    |      0       |\n",
       "|     system    |      0       |\n",
       "+---------------+--------------+"
      ]
     },
     "execution_count": 7,
     "metadata": {},
     "output_type": "execute_result"
    }
   ],
   "source": [
    "%%sql\n",
    "SELECT * FROM read_csv(\"data/sample*.csv\")"
   ]
  },
  {
   "cell_type": "code",
   "execution_count": 8,
   "metadata": {
    "tags": [
     "remove-input"
    ]
   },
   "outputs": [
    {
     "data": {
      "text/plain": [
       "┌───────────────┬──────────────┐\n",
       "│ database_name │ database_oid │\n",
       "│    varchar    │    int64     │\n",
       "├───────────────┼──────────────┤\n",
       "│ memory        │         1146 │\n",
       "│ memory        │         1146 │\n",
       "│ memory        │         1146 │\n",
       "│ system        │            0 │\n",
       "│ system        │            0 │\n",
       "│ system        │            0 │\n",
       "└───────────────┴──────────────┘"
      ]
     },
     "execution_count": 8,
     "metadata": {},
     "output_type": "execute_result"
    }
   ],
   "source": [
    "duckdb.read_csv(\"data/sample*.csv\")"
   ]
  },
  {
   "cell_type": "markdown",
   "metadata": {},
   "source": [
    "オプションの指定\n",
    "\n",
    "::::{tab-set}\n",
    ":::{tab-item} python\n",
    ":sync: python\n",
    "\n",
    "```python\n",
    "duckdb.read_csv(\"data/sample1.csv\", header=False, sep=\",\")\n",
    "```\n",
    ":::\n",
    "\n",
    ":::{tab-item} SQL\n",
    ":sync: sql\n",
    "\n",
    "```sql\n",
    "SELECT * FROM read_csv(\"data/sample1.csv\", header=False, sep=\",\")\n",
    "```\n",
    ":::\n",
    "::::"
   ]
  },
  {
   "cell_type": "code",
   "execution_count": 9,
   "metadata": {
    "tags": [
     "remove-input",
     "remove-output"
    ]
   },
   "outputs": [
    {
     "data": {
      "text/html": [
       "<span style=\"None\">Running query in &#x27;duckdb:///:memory:&#x27;</span>"
      ],
      "text/plain": [
       "Running query in 'duckdb:///:memory:'"
      ]
     },
     "metadata": {},
     "output_type": "display_data"
    },
    {
     "data": {
      "text/html": [
       "<table>\n",
       "    <thead>\n",
       "        <tr>\n",
       "            <th>column0</th>\n",
       "            <th>column1</th>\n",
       "        </tr>\n",
       "    </thead>\n",
       "    <tbody>\n",
       "        <tr>\n",
       "            <td>database_name</td>\n",
       "            <td>database_oid</td>\n",
       "        </tr>\n",
       "        <tr>\n",
       "            <td>memory</td>\n",
       "            <td>1146</td>\n",
       "        </tr>\n",
       "        <tr>\n",
       "            <td>memory</td>\n",
       "            <td>1146</td>\n",
       "        </tr>\n",
       "        <tr>\n",
       "            <td>memory</td>\n",
       "            <td>1146</td>\n",
       "        </tr>\n",
       "    </tbody>\n",
       "</table>"
      ],
      "text/plain": [
       "+---------------+--------------+\n",
       "|    column0    |   column1    |\n",
       "+---------------+--------------+\n",
       "| database_name | database_oid |\n",
       "|     memory    |     1146     |\n",
       "|     memory    |     1146     |\n",
       "|     memory    |     1146     |\n",
       "+---------------+--------------+"
      ]
     },
     "execution_count": 9,
     "metadata": {},
     "output_type": "execute_result"
    }
   ],
   "source": [
    "%%sql\n",
    "SELECT * FROM read_csv(\"data/sample1.csv\", header=False, sep=\",\")"
   ]
  },
  {
   "cell_type": "code",
   "execution_count": 10,
   "metadata": {
    "tags": [
     "remove-input"
    ]
   },
   "outputs": [
    {
     "data": {
      "text/plain": [
       "┌───────────────┬──────────────┐\n",
       "│    column0    │   column1    │\n",
       "│    varchar    │   varchar    │\n",
       "├───────────────┼──────────────┤\n",
       "│ database_name │ database_oid │\n",
       "│ memory        │ 1146         │\n",
       "│ memory        │ 1146         │\n",
       "│ memory        │ 1146         │\n",
       "└───────────────┴──────────────┘"
      ]
     },
     "execution_count": 10,
     "metadata": {},
     "output_type": "execute_result"
    }
   ],
   "source": [
    "duckdb.read_csv(\n",
    "    \"data/sample1.csv\",\n",
    "    header=False,\n",
    "    sep=\",\",\n",
    ")"
   ]
  },
  {
   "cell_type": "markdown",
   "metadata": {},
   "source": [
    "データ型の上書き"
   ]
  },
  {
   "cell_type": "code",
   "execution_count": 11,
   "metadata": {},
   "outputs": [
    {
     "data": {
      "text/plain": [
       "┌───────────────┬──────────────┐\n",
       "│ database_name │ database_oid │\n",
       "│    varchar    │    double    │\n",
       "├───────────────┼──────────────┤\n",
       "│ memory        │       1146.0 │\n",
       "│ memory        │       1146.0 │\n",
       "│ memory        │       1146.0 │\n",
       "└───────────────┴──────────────┘"
      ]
     },
     "execution_count": 11,
     "metadata": {},
     "output_type": "execute_result"
    }
   ],
   "source": [
    "duckdb.read_csv(\n",
    "    \"data/sample1.csv\",\n",
    "    dtype=[str, float],\n",
    ")"
   ]
  },
  {
   "cell_type": "code",
   "execution_count": 12,
   "metadata": {},
   "outputs": [
    {
     "data": {
      "text/plain": [
       "┌───────────────┬──────────────┐\n",
       "│ database_name │ database_oid │\n",
       "│    varchar    │    double    │\n",
       "├───────────────┼──────────────┤\n",
       "│ memory        │       1146.0 │\n",
       "│ memory        │       1146.0 │\n",
       "│ memory        │       1146.0 │\n",
       "└───────────────┴──────────────┘"
      ]
     },
     "execution_count": 12,
     "metadata": {},
     "output_type": "execute_result"
    }
   ],
   "source": [
    "duckdb.read_csv(\n",
    "    \"data/sample1.csv\",\n",
    "    dtype={\"database_oid\": float},\n",
    ")"
   ]
  },
  {
   "cell_type": "markdown",
   "metadata": {},
   "source": [
    "SQL文による `read_csv` の記述"
   ]
  },
  {
   "cell_type": "code",
   "execution_count": 13,
   "metadata": {},
   "outputs": [
    {
     "data": {
      "text/plain": [
       "┌───────────────┬──────────────┐\n",
       "│ database_name │ database_oid │\n",
       "│    varchar    │    int64     │\n",
       "├───────────────┼──────────────┤\n",
       "│ memory        │         1146 │\n",
       "│ memory        │         1146 │\n",
       "│ memory        │         1146 │\n",
       "└───────────────┴──────────────┘"
      ]
     },
     "execution_count": 13,
     "metadata": {},
     "output_type": "execute_result"
    }
   ],
   "source": [
    "duckdb.sql(\"SELECT * FROM 'data/sample1.csv'\")"
   ]
  },
  {
   "cell_type": "code",
   "execution_count": 14,
   "metadata": {},
   "outputs": [
    {
     "data": {
      "text/plain": [
       "┌───────────────┬──────────────┐\n",
       "│ database_name │ database_oid │\n",
       "│    varchar    │    int64     │\n",
       "├───────────────┼──────────────┤\n",
       "│ memory        │         1146 │\n",
       "│ memory        │         1146 │\n",
       "│ memory        │         1146 │\n",
       "└───────────────┴──────────────┘"
      ]
     },
     "execution_count": 14,
     "metadata": {},
     "output_type": "execute_result"
    }
   ],
   "source": [
    "duckdb.sql(\"SELECT * FROM read_csv('data/sample1.csv')\")"
   ]
  },
  {
   "cell_type": "markdown",
   "metadata": {},
   "source": [
    "```{seealso}\n",
    "CSV Import\n",
    "\n",
    "https://duckdb.org/docs/data/csv/overview.html\n",
    "```"
   ]
  },
  {
   "cell_type": "markdown",
   "metadata": {},
   "source": [
    "## Parquetファイル"
   ]
  },
  {
   "cell_type": "markdown",
   "metadata": {},
   "source": [
    "`duckdb.read_parquet` によるParquetファイルの読み込み\n",
    "\n",
    "```{seealso}\n",
    "[https](https://duckdb.org/docs/extensions/httpfs/overview.html) エンドポイントへの接続\n",
    "```"
   ]
  },
  {
   "cell_type": "markdown",
   "metadata": {},
   "source": [
    "::::{tab-set}\n",
    ":::{tab-item} python\n",
    ":sync: python\n",
    "\n",
    "```python\n",
    "duckdb.read_parquet(\n",
    "    \"https://raw.githubusercontent.com/plotly/datasets/refs/heads/master/2015_flights.parquet\"\n",
    ")\n",
    "```\n",
    ":::\n",
    "\n",
    ":::{tab-item} SQL\n",
    ":sync: sql\n",
    "\n",
    "```sql\n",
    "SELECT * FROM read_parquet(\"https://raw.githubusercontent.com/plotly/datasets/refs/heads/master/2015_flights.parquet\")\n",
    "```\n",
    ":::\n",
    "::::"
   ]
  },
  {
   "cell_type": "code",
   "execution_count": 15,
   "metadata": {
    "tags": [
     "remove-input",
     "remove-output"
    ]
   },
   "outputs": [
    {
     "data": {
      "text/html": [
       "<span style=\"None\">Running query in &#x27;duckdb:///:memory:&#x27;</span>"
      ],
      "text/plain": [
       "Running query in 'duckdb:///:memory:'"
      ]
     },
     "metadata": {},
     "output_type": "display_data"
    },
    {
     "data": {
      "text/html": [
       "<table>\n",
       "    <thead>\n",
       "        <tr>\n",
       "            <th>DEPARTURE_DELAY</th>\n",
       "            <th>ARRIVAL_DELAY</th>\n",
       "            <th>DISTANCE</th>\n",
       "            <th>SCHEDULED_DEPARTURE</th>\n",
       "        </tr>\n",
       "    </thead>\n",
       "    <tbody>\n",
       "        <tr>\n",
       "            <td>-11.0</td>\n",
       "            <td>-22.0</td>\n",
       "            <td>1448</td>\n",
       "            <td>0.08333333333333333</td>\n",
       "        </tr>\n",
       "        <tr>\n",
       "            <td>-8.0</td>\n",
       "            <td>-9.0</td>\n",
       "            <td>2330</td>\n",
       "            <td>0.16666666666666666</td>\n",
       "        </tr>\n",
       "        <tr>\n",
       "            <td>-2.0</td>\n",
       "            <td>5.0</td>\n",
       "            <td>2296</td>\n",
       "            <td>0.3333333333333333</td>\n",
       "        </tr>\n",
       "        <tr>\n",
       "            <td>-5.0</td>\n",
       "            <td>-9.0</td>\n",
       "            <td>2342</td>\n",
       "            <td>0.3333333333333333</td>\n",
       "        </tr>\n",
       "        <tr>\n",
       "            <td>-1.0</td>\n",
       "            <td>-21.0</td>\n",
       "            <td>1448</td>\n",
       "            <td>0.4166666666666667</td>\n",
       "        </tr>\n",
       "        <tr>\n",
       "            <td>-5.0</td>\n",
       "            <td>8.0</td>\n",
       "            <td>1589</td>\n",
       "            <td>0.4166666666666667</td>\n",
       "        </tr>\n",
       "        <tr>\n",
       "            <td>-6.0</td>\n",
       "            <td>-17.0</td>\n",
       "            <td>1299</td>\n",
       "            <td>0.4166666666666667</td>\n",
       "        </tr>\n",
       "        <tr>\n",
       "            <td>14.0</td>\n",
       "            <td>-10.0</td>\n",
       "            <td>2125</td>\n",
       "            <td>0.5</td>\n",
       "        </tr>\n",
       "        <tr>\n",
       "            <td>-11.0</td>\n",
       "            <td>-13.0</td>\n",
       "            <td>1464</td>\n",
       "            <td>0.5</td>\n",
       "        </tr>\n",
       "        <tr>\n",
       "            <td>3.0</td>\n",
       "            <td>-15.0</td>\n",
       "            <td>1747</td>\n",
       "            <td>0.5</td>\n",
       "        </tr>\n",
       "    </tbody>\n",
       "</table>\n",
       "<span style=\"font-style:italic;text-align:center;\">Truncated to <a href=\"https://jupysql.ploomber.io/en/latest/api/configuration.html#displaylimit\">displaylimit</a> of 10.</span>"
      ],
      "text/plain": [
       "+-----------------+---------------+----------+---------------------+\n",
       "| DEPARTURE_DELAY | ARRIVAL_DELAY | DISTANCE | SCHEDULED_DEPARTURE |\n",
       "+-----------------+---------------+----------+---------------------+\n",
       "|      -11.0      |     -22.0     |   1448   | 0.08333333333333333 |\n",
       "|       -8.0      |      -9.0     |   2330   | 0.16666666666666666 |\n",
       "|       -2.0      |      5.0      |   2296   |  0.3333333333333333 |\n",
       "|       -5.0      |      -9.0     |   2342   |  0.3333333333333333 |\n",
       "|       -1.0      |     -21.0     |   1448   |  0.4166666666666667 |\n",
       "|       -5.0      |      8.0      |   1589   |  0.4166666666666667 |\n",
       "|       -6.0      |     -17.0     |   1299   |  0.4166666666666667 |\n",
       "|       14.0      |     -10.0     |   2125   |         0.5         |\n",
       "|      -11.0      |     -13.0     |   1464   |         0.5         |\n",
       "|       3.0       |     -15.0     |   1747   |         0.5         |\n",
       "+-----------------+---------------+----------+---------------------+\n",
       "Truncated to displaylimit of 10."
      ]
     },
     "execution_count": 15,
     "metadata": {},
     "output_type": "execute_result"
    }
   ],
   "source": [
    "%%sql\n",
    "SELECT * FROM read_parquet(\"https://raw.githubusercontent.com/plotly/datasets/refs/heads/master/2015_flights.parquet\")"
   ]
  },
  {
   "cell_type": "code",
   "execution_count": 16,
   "metadata": {
    "tags": [
     "remove-input"
    ]
   },
   "outputs": [
    {
     "data": {
      "text/plain": [
       "┌─────────────────┬───────────────┬──────────┬─────────────────────┐\n",
       "│ DEPARTURE_DELAY │ ARRIVAL_DELAY │ DISTANCE │ SCHEDULED_DEPARTURE │\n",
       "│     double      │    double     │  int64   │       double        │\n",
       "├─────────────────┼───────────────┼──────────┼─────────────────────┤\n",
       "│           -11.0 │         -22.0 │     1448 │ 0.08333333333333333 │\n",
       "│            -8.0 │          -9.0 │     2330 │ 0.16666666666666666 │\n",
       "│            -2.0 │           5.0 │     2296 │  0.3333333333333333 │\n",
       "│            -5.0 │          -9.0 │     2342 │  0.3333333333333333 │\n",
       "│            -1.0 │         -21.0 │     1448 │  0.4166666666666667 │\n",
       "│            -5.0 │           8.0 │     1589 │  0.4166666666666667 │\n",
       "│            -6.0 │         -17.0 │     1299 │  0.4166666666666667 │\n",
       "│            14.0 │         -10.0 │     2125 │                 0.5 │\n",
       "│           -11.0 │         -13.0 │     1464 │                 0.5 │\n",
       "│             3.0 │         -15.0 │     1747 │                 0.5 │\n",
       "│              ·  │           ·   │       ·  │                  ·  │\n",
       "│              ·  │           ·   │       ·  │                  ·  │\n",
       "│              ·  │           ·   │       ·  │                  ·  │\n",
       "│            -1.0 │         -10.0 │      895 │  17.083333333333332 │\n",
       "│            17.0 │          28.0 │      602 │  17.083333333333332 │\n",
       "│            -3.0 │          15.0 │     2556 │  17.083333333333332 │\n",
       "│            98.0 │         133.0 │      164 │  17.083333333333332 │\n",
       "│             5.0 │          -5.0 │      473 │  17.083333333333332 │\n",
       "│            11.0 │          17.0 │      100 │  17.083333333333332 │\n",
       "│           -12.0 │         -32.0 │      147 │  17.083333333333332 │\n",
       "│            16.0 │          26.0 │      135 │  17.083333333333332 │\n",
       "│           175.0 │         196.0 │      594 │  17.083333333333332 │\n",
       "│            21.0 │          29.0 │      312 │  17.083333333333332 │\n",
       "├─────────────────┴───────────────┴──────────┴─────────────────────┤\n",
       "│ ? rows (>9999 rows, 20 shown)                          4 columns │\n",
       "└──────────────────────────────────────────────────────────────────┘"
      ]
     },
     "execution_count": 16,
     "metadata": {},
     "output_type": "execute_result"
    }
   ],
   "source": [
    "duckdb.read_parquet(\n",
    "    \"https://raw.githubusercontent.com/plotly/datasets/refs/heads/master/2015_flights.parquet\"\n",
    ")"
   ]
  },
  {
   "cell_type": "markdown",
   "metadata": {},
   "source": [
    "SQL文による `read_parquet` の記述"
   ]
  },
  {
   "cell_type": "code",
   "execution_count": 17,
   "metadata": {},
   "outputs": [
    {
     "data": {
      "text/plain": [
       "┌─────────────────┬───────────────┬──────────┬─────────────────────┐\n",
       "│ DEPARTURE_DELAY │ ARRIVAL_DELAY │ DISTANCE │ SCHEDULED_DEPARTURE │\n",
       "│     double      │    double     │  int64   │       double        │\n",
       "├─────────────────┼───────────────┼──────────┼─────────────────────┤\n",
       "│           -11.0 │         -22.0 │     1448 │ 0.08333333333333333 │\n",
       "│            -8.0 │          -9.0 │     2330 │ 0.16666666666666666 │\n",
       "│            -2.0 │           5.0 │     2296 │  0.3333333333333333 │\n",
       "│            -5.0 │          -9.0 │     2342 │  0.3333333333333333 │\n",
       "│            -1.0 │         -21.0 │     1448 │  0.4166666666666667 │\n",
       "│            -5.0 │           8.0 │     1589 │  0.4166666666666667 │\n",
       "│            -6.0 │         -17.0 │     1299 │  0.4166666666666667 │\n",
       "│            14.0 │         -10.0 │     2125 │                 0.5 │\n",
       "│           -11.0 │         -13.0 │     1464 │                 0.5 │\n",
       "│             3.0 │         -15.0 │     1747 │                 0.5 │\n",
       "│              ·  │           ·   │       ·  │                  ·  │\n",
       "│              ·  │           ·   │       ·  │                  ·  │\n",
       "│              ·  │           ·   │       ·  │                  ·  │\n",
       "│            -1.0 │         -10.0 │      895 │  17.083333333333332 │\n",
       "│            17.0 │          28.0 │      602 │  17.083333333333332 │\n",
       "│            -3.0 │          15.0 │     2556 │  17.083333333333332 │\n",
       "│            98.0 │         133.0 │      164 │  17.083333333333332 │\n",
       "│             5.0 │          -5.0 │      473 │  17.083333333333332 │\n",
       "│            11.0 │          17.0 │      100 │  17.083333333333332 │\n",
       "│           -12.0 │         -32.0 │      147 │  17.083333333333332 │\n",
       "│            16.0 │          26.0 │      135 │  17.083333333333332 │\n",
       "│           175.0 │         196.0 │      594 │  17.083333333333332 │\n",
       "│            21.0 │          29.0 │      312 │  17.083333333333332 │\n",
       "├─────────────────┴───────────────┴──────────┴─────────────────────┤\n",
       "│ ? rows (>9999 rows, 20 shown)                          4 columns │\n",
       "└──────────────────────────────────────────────────────────────────┘"
      ]
     },
     "execution_count": 17,
     "metadata": {},
     "output_type": "execute_result"
    }
   ],
   "source": [
    "duckdb.sql(\n",
    "    \"SELECT * FROM 'https://raw.githubusercontent.com/plotly/datasets/refs/heads/master/2015_flights.parquet'\"\n",
    ")"
   ]
  },
  {
   "cell_type": "code",
   "execution_count": 18,
   "metadata": {},
   "outputs": [
    {
     "data": {
      "text/plain": [
       "┌─────────────────┬───────────────┬──────────┬─────────────────────┐\n",
       "│ DEPARTURE_DELAY │ ARRIVAL_DELAY │ DISTANCE │ SCHEDULED_DEPARTURE │\n",
       "│     double      │    double     │  int64   │       double        │\n",
       "├─────────────────┼───────────────┼──────────┼─────────────────────┤\n",
       "│           -11.0 │         -22.0 │     1448 │ 0.08333333333333333 │\n",
       "│            -8.0 │          -9.0 │     2330 │ 0.16666666666666666 │\n",
       "│            -2.0 │           5.0 │     2296 │  0.3333333333333333 │\n",
       "│            -5.0 │          -9.0 │     2342 │  0.3333333333333333 │\n",
       "│            -1.0 │         -21.0 │     1448 │  0.4166666666666667 │\n",
       "│            -5.0 │           8.0 │     1589 │  0.4166666666666667 │\n",
       "│            -6.0 │         -17.0 │     1299 │  0.4166666666666667 │\n",
       "│            14.0 │         -10.0 │     2125 │                 0.5 │\n",
       "│           -11.0 │         -13.0 │     1464 │                 0.5 │\n",
       "│             3.0 │         -15.0 │     1747 │                 0.5 │\n",
       "│              ·  │           ·   │       ·  │                  ·  │\n",
       "│              ·  │           ·   │       ·  │                  ·  │\n",
       "│              ·  │           ·   │       ·  │                  ·  │\n",
       "│            -1.0 │         -10.0 │      895 │  17.083333333333332 │\n",
       "│            17.0 │          28.0 │      602 │  17.083333333333332 │\n",
       "│            -3.0 │          15.0 │     2556 │  17.083333333333332 │\n",
       "│            98.0 │         133.0 │      164 │  17.083333333333332 │\n",
       "│             5.0 │          -5.0 │      473 │  17.083333333333332 │\n",
       "│            11.0 │          17.0 │      100 │  17.083333333333332 │\n",
       "│           -12.0 │         -32.0 │      147 │  17.083333333333332 │\n",
       "│            16.0 │          26.0 │      135 │  17.083333333333332 │\n",
       "│           175.0 │         196.0 │      594 │  17.083333333333332 │\n",
       "│            21.0 │          29.0 │      312 │  17.083333333333332 │\n",
       "├─────────────────┴───────────────┴──────────┴─────────────────────┤\n",
       "│ ? rows (>9999 rows, 20 shown)                          4 columns │\n",
       "└──────────────────────────────────────────────────────────────────┘"
      ]
     },
     "execution_count": 18,
     "metadata": {},
     "output_type": "execute_result"
    }
   ],
   "source": [
    "duckdb.sql(\n",
    "    \"SELECT * FROM read_parquet('https://raw.githubusercontent.com/plotly/datasets/refs/heads/master/2015_flights.parquet')\"\n",
    ")"
   ]
  },
  {
   "cell_type": "markdown",
   "metadata": {},
   "source": [
    "```{seealso}\n",
    "Reading and Writing Parquet Files\n",
    "\n",
    "https://duckdb.org/docs/data/parquet/overview.html\n",
    "```"
   ]
  },
  {
   "cell_type": "markdown",
   "metadata": {},
   "source": [
    "## JSONファイル"
   ]
  },
  {
   "cell_type": "markdown",
   "metadata": {},
   "source": [
    "`duckdb.read_json` によるJSONファイルの読み込み"
   ]
  },
  {
   "cell_type": "markdown",
   "metadata": {},
   "source": [
    "::::{tab-set}\n",
    ":::{tab-item} python\n",
    ":sync: python\n",
    "\n",
    "```python\n",
    "duckdb.read_json(\n",
    "    \"https://github.com/plotly/datasets/raw/refs/heads/master/iris_data.json\"\n",
    ")\n",
    "```\n",
    ":::\n",
    "\n",
    ":::{tab-item} SQL\n",
    ":sync: sql\n",
    "\n",
    "```sql\n",
    "SELECT * FROM read_json(\"https://github.com/plotly/datasets/raw/refs/heads/master/iris_data.json\")\n",
    "```\n",
    ":::\n",
    "::::"
   ]
  },
  {
   "cell_type": "code",
   "execution_count": 19,
   "metadata": {
    "tags": [
     "remove-input",
     "remove-output"
    ]
   },
   "outputs": [
    {
     "data": {
      "text/html": [
       "<span style=\"None\">Running query in &#x27;duckdb:///:memory:&#x27;</span>"
      ],
      "text/plain": [
       "Running query in 'duckdb:///:memory:'"
      ]
     },
     "metadata": {},
     "output_type": "display_data"
    },
    {
     "data": {
      "text/html": [
       "<table>\n",
       "    <thead>\n",
       "        <tr>\n",
       "            <th>sepal length</th>\n",
       "            <th>sepal width</th>\n",
       "            <th>petal length</th>\n",
       "            <th>petal width</th>\n",
       "            <th>class</th>\n",
       "        </tr>\n",
       "    </thead>\n",
       "    <tbody>\n",
       "        <tr>\n",
       "            <td>5.1</td>\n",
       "            <td>3.5</td>\n",
       "            <td>1.4</td>\n",
       "            <td>0.2</td>\n",
       "            <td>Iris-setosa</td>\n",
       "        </tr>\n",
       "        <tr>\n",
       "            <td>4.9</td>\n",
       "            <td>3.0</td>\n",
       "            <td>1.4</td>\n",
       "            <td>0.2</td>\n",
       "            <td>Iris-setosa</td>\n",
       "        </tr>\n",
       "        <tr>\n",
       "            <td>4.7</td>\n",
       "            <td>3.2</td>\n",
       "            <td>1.3</td>\n",
       "            <td>0.2</td>\n",
       "            <td>Iris-setosa</td>\n",
       "        </tr>\n",
       "        <tr>\n",
       "            <td>4.6</td>\n",
       "            <td>3.1</td>\n",
       "            <td>1.5</td>\n",
       "            <td>0.2</td>\n",
       "            <td>Iris-setosa</td>\n",
       "        </tr>\n",
       "        <tr>\n",
       "            <td>5.0</td>\n",
       "            <td>3.6</td>\n",
       "            <td>1.4</td>\n",
       "            <td>0.2</td>\n",
       "            <td>Iris-setosa</td>\n",
       "        </tr>\n",
       "        <tr>\n",
       "            <td>5.4</td>\n",
       "            <td>3.9</td>\n",
       "            <td>1.7</td>\n",
       "            <td>0.4</td>\n",
       "            <td>Iris-setosa</td>\n",
       "        </tr>\n",
       "        <tr>\n",
       "            <td>4.6</td>\n",
       "            <td>3.4</td>\n",
       "            <td>1.4</td>\n",
       "            <td>0.3</td>\n",
       "            <td>Iris-setosa</td>\n",
       "        </tr>\n",
       "        <tr>\n",
       "            <td>5.0</td>\n",
       "            <td>3.4</td>\n",
       "            <td>1.5</td>\n",
       "            <td>0.2</td>\n",
       "            <td>Iris-setosa</td>\n",
       "        </tr>\n",
       "        <tr>\n",
       "            <td>4.4</td>\n",
       "            <td>2.9</td>\n",
       "            <td>1.4</td>\n",
       "            <td>0.2</td>\n",
       "            <td>Iris-setosa</td>\n",
       "        </tr>\n",
       "        <tr>\n",
       "            <td>4.9</td>\n",
       "            <td>3.1</td>\n",
       "            <td>1.5</td>\n",
       "            <td>0.1</td>\n",
       "            <td>Iris-setosa</td>\n",
       "        </tr>\n",
       "    </tbody>\n",
       "</table>\n",
       "<span style=\"font-style:italic;text-align:center;\">Truncated to <a href=\"https://jupysql.ploomber.io/en/latest/api/configuration.html#displaylimit\">displaylimit</a> of 10.</span>"
      ],
      "text/plain": [
       "+--------------+-------------+--------------+-------------+-------------+\n",
       "| sepal length | sepal width | petal length | petal width |    class    |\n",
       "+--------------+-------------+--------------+-------------+-------------+\n",
       "|     5.1      |     3.5     |     1.4      |     0.2     | Iris-setosa |\n",
       "|     4.9      |     3.0     |     1.4      |     0.2     | Iris-setosa |\n",
       "|     4.7      |     3.2     |     1.3      |     0.2     | Iris-setosa |\n",
       "|     4.6      |     3.1     |     1.5      |     0.2     | Iris-setosa |\n",
       "|     5.0      |     3.6     |     1.4      |     0.2     | Iris-setosa |\n",
       "|     5.4      |     3.9     |     1.7      |     0.4     | Iris-setosa |\n",
       "|     4.6      |     3.4     |     1.4      |     0.3     | Iris-setosa |\n",
       "|     5.0      |     3.4     |     1.5      |     0.2     | Iris-setosa |\n",
       "|     4.4      |     2.9     |     1.4      |     0.2     | Iris-setosa |\n",
       "|     4.9      |     3.1     |     1.5      |     0.1     | Iris-setosa |\n",
       "+--------------+-------------+--------------+-------------+-------------+\n",
       "Truncated to displaylimit of 10."
      ]
     },
     "execution_count": 19,
     "metadata": {},
     "output_type": "execute_result"
    }
   ],
   "source": [
    "%%sql\n",
    "SELECT * FROM read_json(\"https://github.com/plotly/datasets/raw/refs/heads/master/iris_data.json\")"
   ]
  },
  {
   "cell_type": "code",
   "execution_count": 20,
   "metadata": {
    "tags": [
     "remove-input"
    ]
   },
   "outputs": [
    {
     "data": {
      "text/plain": [
       "┌──────────────┬─────────────┬──────────────┬─────────────┬────────────────┐\n",
       "│ sepal length │ sepal width │ petal length │ petal width │     class      │\n",
       "│    double    │   double    │    double    │   double    │    varchar     │\n",
       "├──────────────┼─────────────┼──────────────┼─────────────┼────────────────┤\n",
       "│          5.1 │         3.5 │          1.4 │         0.2 │ Iris-setosa    │\n",
       "│          4.9 │         3.0 │          1.4 │         0.2 │ Iris-setosa    │\n",
       "│          4.7 │         3.2 │          1.3 │         0.2 │ Iris-setosa    │\n",
       "│          4.6 │         3.1 │          1.5 │         0.2 │ Iris-setosa    │\n",
       "│          5.0 │         3.6 │          1.4 │         0.2 │ Iris-setosa    │\n",
       "│          5.4 │         3.9 │          1.7 │         0.4 │ Iris-setosa    │\n",
       "│          4.6 │         3.4 │          1.4 │         0.3 │ Iris-setosa    │\n",
       "│          5.0 │         3.4 │          1.5 │         0.2 │ Iris-setosa    │\n",
       "│          4.4 │         2.9 │          1.4 │         0.2 │ Iris-setosa    │\n",
       "│          4.9 │         3.1 │          1.5 │         0.1 │ Iris-setosa    │\n",
       "│           ·  │          ·  │           ·  │          ·  │      ·         │\n",
       "│           ·  │          ·  │           ·  │          ·  │      ·         │\n",
       "│           ·  │          ·  │           ·  │          ·  │      ·         │\n",
       "│          6.7 │         3.1 │          5.6 │         2.4 │ Iris-virginica │\n",
       "│          6.9 │         3.1 │          5.1 │         2.3 │ Iris-virginica │\n",
       "│          5.8 │         2.7 │          5.1 │         1.9 │ Iris-virginica │\n",
       "│          6.8 │         3.2 │          5.9 │         2.3 │ Iris-virginica │\n",
       "│          6.7 │         3.3 │          5.7 │         2.5 │ Iris-virginica │\n",
       "│          6.7 │         3.0 │          5.2 │         2.3 │ Iris-virginica │\n",
       "│          6.3 │         2.5 │          5.0 │         1.9 │ Iris-virginica │\n",
       "│          6.5 │         3.0 │          5.2 │         2.0 │ Iris-virginica │\n",
       "│          6.2 │         3.4 │          5.4 │         2.3 │ Iris-virginica │\n",
       "│          5.9 │         3.0 │          5.1 │         1.8 │ Iris-virginica │\n",
       "├──────────────┴─────────────┴──────────────┴─────────────┴────────────────┤\n",
       "│ 150 rows (20 shown)                                            5 columns │\n",
       "└──────────────────────────────────────────────────────────────────────────┘"
      ]
     },
     "execution_count": 20,
     "metadata": {},
     "output_type": "execute_result"
    }
   ],
   "source": [
    "duckdb.read_json(\n",
    "    \"https://github.com/plotly/datasets/raw/refs/heads/master/iris_data.json\"\n",
    ")"
   ]
  },
  {
   "cell_type": "markdown",
   "metadata": {},
   "source": [
    "SQL文による `read_json` の記述"
   ]
  },
  {
   "cell_type": "code",
   "execution_count": 21,
   "metadata": {},
   "outputs": [
    {
     "data": {
      "text/plain": [
       "┌──────────────┬─────────────┬──────────────┬─────────────┬────────────────┐\n",
       "│ sepal length │ sepal width │ petal length │ petal width │     class      │\n",
       "│    double    │   double    │    double    │   double    │    varchar     │\n",
       "├──────────────┼─────────────┼──────────────┼─────────────┼────────────────┤\n",
       "│          5.1 │         3.5 │          1.4 │         0.2 │ Iris-setosa    │\n",
       "│          4.9 │         3.0 │          1.4 │         0.2 │ Iris-setosa    │\n",
       "│          4.7 │         3.2 │          1.3 │         0.2 │ Iris-setosa    │\n",
       "│          4.6 │         3.1 │          1.5 │         0.2 │ Iris-setosa    │\n",
       "│          5.0 │         3.6 │          1.4 │         0.2 │ Iris-setosa    │\n",
       "│          5.4 │         3.9 │          1.7 │         0.4 │ Iris-setosa    │\n",
       "│          4.6 │         3.4 │          1.4 │         0.3 │ Iris-setosa    │\n",
       "│          5.0 │         3.4 │          1.5 │         0.2 │ Iris-setosa    │\n",
       "│          4.4 │         2.9 │          1.4 │         0.2 │ Iris-setosa    │\n",
       "│          4.9 │         3.1 │          1.5 │         0.1 │ Iris-setosa    │\n",
       "│           ·  │          ·  │           ·  │          ·  │      ·         │\n",
       "│           ·  │          ·  │           ·  │          ·  │      ·         │\n",
       "│           ·  │          ·  │           ·  │          ·  │      ·         │\n",
       "│          6.7 │         3.1 │          5.6 │         2.4 │ Iris-virginica │\n",
       "│          6.9 │         3.1 │          5.1 │         2.3 │ Iris-virginica │\n",
       "│          5.8 │         2.7 │          5.1 │         1.9 │ Iris-virginica │\n",
       "│          6.8 │         3.2 │          5.9 │         2.3 │ Iris-virginica │\n",
       "│          6.7 │         3.3 │          5.7 │         2.5 │ Iris-virginica │\n",
       "│          6.7 │         3.0 │          5.2 │         2.3 │ Iris-virginica │\n",
       "│          6.3 │         2.5 │          5.0 │         1.9 │ Iris-virginica │\n",
       "│          6.5 │         3.0 │          5.2 │         2.0 │ Iris-virginica │\n",
       "│          6.2 │         3.4 │          5.4 │         2.3 │ Iris-virginica │\n",
       "│          5.9 │         3.0 │          5.1 │         1.8 │ Iris-virginica │\n",
       "├──────────────┴─────────────┴──────────────┴─────────────┴────────────────┤\n",
       "│ 150 rows (20 shown)                                            5 columns │\n",
       "└──────────────────────────────────────────────────────────────────────────┘"
      ]
     },
     "execution_count": 21,
     "metadata": {},
     "output_type": "execute_result"
    }
   ],
   "source": [
    "duckdb.sql(\n",
    "    \"SELECT * FROM 'https://github.com/plotly/datasets/raw/refs/heads/master/iris_data.json'\"\n",
    ")"
   ]
  },
  {
   "cell_type": "code",
   "execution_count": 22,
   "metadata": {},
   "outputs": [
    {
     "data": {
      "text/plain": [
       "┌──────────────┬─────────────┬──────────────┬─────────────┬────────────────┐\n",
       "│ sepal length │ sepal width │ petal length │ petal width │     class      │\n",
       "│    double    │   double    │    double    │   double    │    varchar     │\n",
       "├──────────────┼─────────────┼──────────────┼─────────────┼────────────────┤\n",
       "│          5.1 │         3.5 │          1.4 │         0.2 │ Iris-setosa    │\n",
       "│          4.9 │         3.0 │          1.4 │         0.2 │ Iris-setosa    │\n",
       "│          4.7 │         3.2 │          1.3 │         0.2 │ Iris-setosa    │\n",
       "│          4.6 │         3.1 │          1.5 │         0.2 │ Iris-setosa    │\n",
       "│          5.0 │         3.6 │          1.4 │         0.2 │ Iris-setosa    │\n",
       "│          5.4 │         3.9 │          1.7 │         0.4 │ Iris-setosa    │\n",
       "│          4.6 │         3.4 │          1.4 │         0.3 │ Iris-setosa    │\n",
       "│          5.0 │         3.4 │          1.5 │         0.2 │ Iris-setosa    │\n",
       "│          4.4 │         2.9 │          1.4 │         0.2 │ Iris-setosa    │\n",
       "│          4.9 │         3.1 │          1.5 │         0.1 │ Iris-setosa    │\n",
       "│           ·  │          ·  │           ·  │          ·  │      ·         │\n",
       "│           ·  │          ·  │           ·  │          ·  │      ·         │\n",
       "│           ·  │          ·  │           ·  │          ·  │      ·         │\n",
       "│          6.7 │         3.1 │          5.6 │         2.4 │ Iris-virginica │\n",
       "│          6.9 │         3.1 │          5.1 │         2.3 │ Iris-virginica │\n",
       "│          5.8 │         2.7 │          5.1 │         1.9 │ Iris-virginica │\n",
       "│          6.8 │         3.2 │          5.9 │         2.3 │ Iris-virginica │\n",
       "│          6.7 │         3.3 │          5.7 │         2.5 │ Iris-virginica │\n",
       "│          6.7 │         3.0 │          5.2 │         2.3 │ Iris-virginica │\n",
       "│          6.3 │         2.5 │          5.0 │         1.9 │ Iris-virginica │\n",
       "│          6.5 │         3.0 │          5.2 │         2.0 │ Iris-virginica │\n",
       "│          6.2 │         3.4 │          5.4 │         2.3 │ Iris-virginica │\n",
       "│          5.9 │         3.0 │          5.1 │         1.8 │ Iris-virginica │\n",
       "├──────────────┴─────────────┴──────────────┴─────────────┴────────────────┤\n",
       "│ 150 rows (20 shown)                                            5 columns │\n",
       "└──────────────────────────────────────────────────────────────────────────┘"
      ]
     },
     "execution_count": 22,
     "metadata": {},
     "output_type": "execute_result"
    }
   ],
   "source": [
    "duckdb.sql(\n",
    "    \"SELECT * FROM read_json('https://github.com/plotly/datasets/raw/refs/heads/master/iris_data.json')\"\n",
    ")"
   ]
  },
  {
   "cell_type": "markdown",
   "metadata": {},
   "source": [
    "## pandas DataFrameへのアクセス"
   ]
  },
  {
   "cell_type": "code",
   "execution_count": 23,
   "metadata": {},
   "outputs": [
    {
     "data": {
      "text/plain": [
       "┌───────────────┬──────────────┐\n",
       "│ database_name │ database_oid │\n",
       "│    varchar    │    int64     │\n",
       "├───────────────┼──────────────┤\n",
       "│ memory        │         1146 │\n",
       "│ memory        │         1146 │\n",
       "│ memory        │         1146 │\n",
       "└───────────────┴──────────────┘"
      ]
     },
     "execution_count": 23,
     "metadata": {},
     "output_type": "execute_result"
    }
   ],
   "source": [
    "import pandas as pd\n",
    "\n",
    "df = pd.read_csv(\"data/sample1.csv\")\n",
    "duckdb.sql(\"SELECT * FROM df\")"
   ]
  },
  {
   "cell_type": "markdown",
   "metadata": {},
   "source": [
    "## Arrowオブジェクトへのアクセス"
   ]
  },
  {
   "cell_type": "code",
   "execution_count": 24,
   "metadata": {},
   "outputs": [
    {
     "data": {
      "text/plain": [
       "┌───────┬───────┐\n",
       "│ col1  │ col2  │\n",
       "│ int64 │ int64 │\n",
       "├───────┼───────┤\n",
       "│     1 │    10 │\n",
       "│     2 │    20 │\n",
       "└───────┴───────┘"
      ]
     },
     "execution_count": 24,
     "metadata": {},
     "output_type": "execute_result"
    }
   ],
   "source": [
    "import pyarrow as pa\n",
    "\n",
    "pa_table = pa.table([pa.array([1, 2]), pa.array([10, 20])], names=[\"col1\", \"col2\"])\n",
    "duckdb.sql(\"SELECT * FROM pa_table\")"
   ]
  }
 ],
 "metadata": {
  "kernelspec": {
   "display_name": ".venv",
   "language": "python",
   "name": "python3"
  },
  "language_info": {
   "codemirror_mode": {
    "name": "ipython",
    "version": 3
   },
   "file_extension": ".py",
   "mimetype": "text/x-python",
   "name": "python",
   "nbconvert_exporter": "python",
   "pygments_lexer": "ipython3",
   "version": "3.12.5"
  }
 },
 "nbformat": 4,
 "nbformat_minor": 2
}
