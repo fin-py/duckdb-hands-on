{
 "cells": [
  {
   "cell_type": "markdown",
   "metadata": {},
   "source": [
    "# データの取り込み"
   ]
  },
  {
   "cell_type": "markdown",
   "metadata": {},
   "source": [
    "## CSVファイル"
   ]
  },
  {
   "cell_type": "code",
   "execution_count": 1,
   "metadata": {},
   "outputs": [
    {
     "name": "stdout",
     "output_type": "stream",
     "text": [
      "Overwriting data/sample1.csv\n"
     ]
    }
   ],
   "source": [
    "%%file data/sample1.csv\n",
    "\n",
    "col1, col2\n",
    "1, 10\n",
    "2, 20"
   ]
  },
  {
   "cell_type": "code",
   "execution_count": 2,
   "metadata": {},
   "outputs": [
    {
     "name": "stdout",
     "output_type": "stream",
     "text": [
      "Overwriting data/sample2.csv\n"
     ]
    }
   ],
   "source": [
    "%%file data/sample2.csv\n",
    "\n",
    "col1, col2\n",
    "3, 30\n",
    "4, 40"
   ]
  },
  {
   "cell_type": "markdown",
   "metadata": {},
   "source": [
    "`read_csv` によるCSVファイルの読み込み"
   ]
  },
  {
   "cell_type": "code",
   "execution_count": 3,
   "metadata": {},
   "outputs": [
    {
     "data": {
      "text/plain": [
       "┌───────┬───────┐\n",
       "│ col1  │ col2  │\n",
       "│ int64 │ int64 │\n",
       "├───────┼───────┤\n",
       "│     1 │    10 │\n",
       "│     2 │    20 │\n",
       "└───────┴───────┘"
      ]
     },
     "execution_count": 3,
     "metadata": {},
     "output_type": "execute_result"
    }
   ],
   "source": [
    "import duckdb\n",
    "\n",
    "duckdb.read_csv(\"data/sample1.csv\")"
   ]
  },
  {
   "cell_type": "markdown",
   "metadata": {},
   "source": [
    "複数ファイルの読み込み"
   ]
  },
  {
   "cell_type": "code",
   "execution_count": 4,
   "metadata": {},
   "outputs": [
    {
     "data": {
      "text/plain": [
       "┌───────┬───────┐\n",
       "│ col1  │ col2  │\n",
       "│ int64 │ int64 │\n",
       "├───────┼───────┤\n",
       "│     1 │    10 │\n",
       "│     2 │    20 │\n",
       "│     3 │    30 │\n",
       "│     4 │    40 │\n",
       "└───────┴───────┘"
      ]
     },
     "execution_count": 4,
     "metadata": {},
     "output_type": "execute_result"
    }
   ],
   "source": [
    "duckdb.read_csv(\"data/sample*.csv\")"
   ]
  },
  {
   "cell_type": "markdown",
   "metadata": {},
   "source": [
    "オプションの指定"
   ]
  },
  {
   "cell_type": "code",
   "execution_count": 5,
   "metadata": {},
   "outputs": [
    {
     "data": {
      "text/plain": [
       "┌─────────┬─────────┐\n",
       "│ column0 │ column1 │\n",
       "│ varchar │ varchar │\n",
       "├─────────┼─────────┤\n",
       "│ col1    │  col2   │\n",
       "│ 1       │  10     │\n",
       "│ 2       │  20     │\n",
       "└─────────┴─────────┘"
      ]
     },
     "execution_count": 5,
     "metadata": {},
     "output_type": "execute_result"
    }
   ],
   "source": [
    "duckdb.read_csv(\"data/sample1.csv\", header=False, sep=\",\")"
   ]
  },
  {
   "cell_type": "markdown",
   "metadata": {},
   "source": [
    "データ型の上書き"
   ]
  },
  {
   "cell_type": "code",
   "execution_count": 6,
   "metadata": {},
   "outputs": [
    {
     "data": {
      "text/plain": [
       "┌───────┬───────┐\n",
       "│ col1  │ col2  │\n",
       "│ int32 │ float │\n",
       "├───────┼───────┤\n",
       "│     1 │  10.0 │\n",
       "│     2 │  20.0 │\n",
       "└───────┴───────┘"
      ]
     },
     "execution_count": 6,
     "metadata": {},
     "output_type": "execute_result"
    }
   ],
   "source": [
    "duckdb.read_csv(\"data/sample1.csv\", dtype=[\"int\", \"float\"])"
   ]
  },
  {
   "cell_type": "markdown",
   "metadata": {},
   "source": [
    "SQL文による `read_csv` の記述"
   ]
  },
  {
   "cell_type": "code",
   "execution_count": 7,
   "metadata": {},
   "outputs": [
    {
     "data": {
      "text/plain": [
       "┌───────┬───────┐\n",
       "│ col1  │ col2  │\n",
       "│ int64 │ int64 │\n",
       "├───────┼───────┤\n",
       "│     1 │    10 │\n",
       "│     2 │    20 │\n",
       "└───────┴───────┘"
      ]
     },
     "execution_count": 7,
     "metadata": {},
     "output_type": "execute_result"
    }
   ],
   "source": [
    "duckdb.sql(\"SELECT * FROM 'data/sample1.csv'\")"
   ]
  },
  {
   "cell_type": "code",
   "execution_count": 8,
   "metadata": {},
   "outputs": [
    {
     "data": {
      "text/plain": [
       "┌───────┬───────┐\n",
       "│ col1  │ col2  │\n",
       "│ int64 │ int64 │\n",
       "├───────┼───────┤\n",
       "│     1 │    10 │\n",
       "│     2 │    20 │\n",
       "└───────┴───────┘"
      ]
     },
     "execution_count": 8,
     "metadata": {},
     "output_type": "execute_result"
    }
   ],
   "source": [
    "duckdb.sql(\"SELECT * FROM read_csv('data/sample1.csv')\")"
   ]
  },
  {
   "cell_type": "markdown",
   "metadata": {},
   "source": [
    "```{seealso}\n",
    "CSV Import\n",
    "\n",
    "https://duckdb.org/docs/data/csv/overview.html\n",
    "```"
   ]
  },
  {
   "cell_type": "markdown",
   "metadata": {},
   "source": [
    "## Parquetファイル"
   ]
  },
  {
   "cell_type": "code",
   "execution_count": 9,
   "metadata": {},
   "outputs": [],
   "source": [
    "import pyarrow as pa\n",
    "import pyarrow.parquet as pq\n",
    "\n",
    "table1 = pa.table([pa.array([1, 2]), pa.array([10, 20])], names=[\"col1\", \"col2\"])\n",
    "table2 = pa.table([pa.array([3, 4]), pa.array([30, 40])], names=[\"col1\", \"col2\"])\n",
    "pq.write_table(table1, \"data/sample1.parquet\")\n",
    "pq.write_table(table2, \"data/sample2.parquet\")"
   ]
  },
  {
   "cell_type": "markdown",
   "metadata": {},
   "source": [
    "`duckdb.read_parquet` によるParquetファイルの読み込み"
   ]
  },
  {
   "cell_type": "code",
   "execution_count": 10,
   "metadata": {},
   "outputs": [
    {
     "data": {
      "text/plain": [
       "┌───────┬───────┐\n",
       "│ col1  │ col2  │\n",
       "│ int64 │ int64 │\n",
       "├───────┼───────┤\n",
       "│     1 │    10 │\n",
       "│     2 │    20 │\n",
       "└───────┴───────┘"
      ]
     },
     "execution_count": 10,
     "metadata": {},
     "output_type": "execute_result"
    }
   ],
   "source": [
    "duckdb.read_parquet(\"data/sample1.parquet\")"
   ]
  },
  {
   "cell_type": "markdown",
   "metadata": {},
   "source": [
    "複数ファイルの読み込み"
   ]
  },
  {
   "cell_type": "code",
   "execution_count": 11,
   "metadata": {},
   "outputs": [
    {
     "data": {
      "text/plain": [
       "┌───────┬───────┐\n",
       "│ col1  │ col2  │\n",
       "│ int64 │ int64 │\n",
       "├───────┼───────┤\n",
       "│     3 │    30 │\n",
       "│     4 │    40 │\n",
       "│     1 │    10 │\n",
       "│     2 │    20 │\n",
       "│     3 │    30 │\n",
       "│     4 │    40 │\n",
       "└───────┴───────┘"
      ]
     },
     "execution_count": 11,
     "metadata": {},
     "output_type": "execute_result"
    }
   ],
   "source": [
    "duckdb.read_parquet(\"data/sample*.parquet\")"
   ]
  },
  {
   "cell_type": "code",
   "execution_count": 12,
   "metadata": {},
   "outputs": [
    {
     "data": {
      "text/plain": [
       "┌───────┬───────┐\n",
       "│ col1  │ col2  │\n",
       "│ int64 │ int64 │\n",
       "├───────┼───────┤\n",
       "│     1 │    10 │\n",
       "│     2 │    20 │\n",
       "│     1 │    10 │\n",
       "│     2 │    20 │\n",
       "└───────┴───────┘"
      ]
     },
     "execution_count": 12,
     "metadata": {},
     "output_type": "execute_result"
    }
   ],
   "source": [
    "duckdb.read_parquet([\"data/sample1.parquet\", \"data/sample1.parquet\"])"
   ]
  },
  {
   "cell_type": "markdown",
   "metadata": {},
   "source": [
    "SQL文による `read_parquet` の記述"
   ]
  },
  {
   "cell_type": "code",
   "execution_count": 13,
   "metadata": {},
   "outputs": [
    {
     "data": {
      "text/plain": [
       "┌───────┬───────┐\n",
       "│ col1  │ col2  │\n",
       "│ int64 │ int64 │\n",
       "├───────┼───────┤\n",
       "│     1 │    10 │\n",
       "│     2 │    20 │\n",
       "└───────┴───────┘"
      ]
     },
     "execution_count": 13,
     "metadata": {},
     "output_type": "execute_result"
    }
   ],
   "source": [
    "duckdb.sql(\"SELECT * FROM 'data/sample1.parquet'\")"
   ]
  },
  {
   "cell_type": "code",
   "execution_count": 14,
   "metadata": {},
   "outputs": [
    {
     "data": {
      "text/plain": [
       "┌───────┬───────┐\n",
       "│ col1  │ col2  │\n",
       "│ int64 │ int64 │\n",
       "├───────┼───────┤\n",
       "│     1 │    10 │\n",
       "│     2 │    20 │\n",
       "└───────┴───────┘"
      ]
     },
     "execution_count": 14,
     "metadata": {},
     "output_type": "execute_result"
    }
   ],
   "source": [
    "duckdb.sql(\"SELECT * FROM read_parquet('data/sample1.parquet')\")"
   ]
  },
  {
   "cell_type": "markdown",
   "metadata": {},
   "source": [
    "[https](https://duckdb.org/docs/extensions/httpfs/overview.html) エンドポイントへの接続"
   ]
  },
  {
   "cell_type": "code",
   "execution_count": 15,
   "metadata": {},
   "outputs": [
    {
     "data": {
      "text/plain": [
       "┌─────────────────┬───────────────┬──────────┬─────────────────────┐\n",
       "│ DEPARTURE_DELAY │ ARRIVAL_DELAY │ DISTANCE │ SCHEDULED_DEPARTURE │\n",
       "│     double      │    double     │  int64   │       double        │\n",
       "├─────────────────┼───────────────┼──────────┼─────────────────────┤\n",
       "│           -11.0 │         -22.0 │     1448 │ 0.08333333333333333 │\n",
       "│            -8.0 │          -9.0 │     2330 │ 0.16666666666666666 │\n",
       "│            -2.0 │           5.0 │     2296 │  0.3333333333333333 │\n",
       "│            -5.0 │          -9.0 │     2342 │  0.3333333333333333 │\n",
       "│            -1.0 │         -21.0 │     1448 │  0.4166666666666667 │\n",
       "│            -5.0 │           8.0 │     1589 │  0.4166666666666667 │\n",
       "│            -6.0 │         -17.0 │     1299 │  0.4166666666666667 │\n",
       "│            14.0 │         -10.0 │     2125 │                 0.5 │\n",
       "│           -11.0 │         -13.0 │     1464 │                 0.5 │\n",
       "│             3.0 │         -15.0 │     1747 │                 0.5 │\n",
       "│              ·  │           ·   │       ·  │                  ·  │\n",
       "│              ·  │           ·   │       ·  │                  ·  │\n",
       "│              ·  │           ·   │       ·  │                  ·  │\n",
       "│            -1.0 │         -10.0 │      895 │  17.083333333333332 │\n",
       "│            17.0 │          28.0 │      602 │  17.083333333333332 │\n",
       "│            -3.0 │          15.0 │     2556 │  17.083333333333332 │\n",
       "│            98.0 │         133.0 │      164 │  17.083333333333332 │\n",
       "│             5.0 │          -5.0 │      473 │  17.083333333333332 │\n",
       "│            11.0 │          17.0 │      100 │  17.083333333333332 │\n",
       "│           -12.0 │         -32.0 │      147 │  17.083333333333332 │\n",
       "│            16.0 │          26.0 │      135 │  17.083333333333332 │\n",
       "│           175.0 │         196.0 │      594 │  17.083333333333332 │\n",
       "│            21.0 │          29.0 │      312 │  17.083333333333332 │\n",
       "├─────────────────┴───────────────┴──────────┴─────────────────────┤\n",
       "│ ? rows (>9999 rows, 20 shown)                          4 columns │\n",
       "└──────────────────────────────────────────────────────────────────┘"
      ]
     },
     "execution_count": 15,
     "metadata": {},
     "output_type": "execute_result"
    }
   ],
   "source": [
    "duckdb.read_parquet(\n",
    "    \"https://github.com/plotly/datasets/raw/refs/heads/master/2015_flights.parquet\"\n",
    ")"
   ]
  },
  {
   "cell_type": "markdown",
   "metadata": {},
   "source": [
    "```{seealso}\n",
    "Reading and Writing Parquet Files\n",
    "\n",
    "https://duckdb.org/docs/data/parquet/overview.html\n",
    "```"
   ]
  },
  {
   "cell_type": "markdown",
   "metadata": {},
   "source": [
    "## JSONファイル"
   ]
  },
  {
   "cell_type": "markdown",
   "metadata": {},
   "source": [
    "`duckdb.read_json` によるJSONファイルの読み込み"
   ]
  },
  {
   "cell_type": "code",
   "execution_count": 16,
   "metadata": {},
   "outputs": [
    {
     "data": {
      "text/plain": [
       "┌──────────────┬─────────────┬──────────────┬─────────────┬────────────────┐\n",
       "│ sepal length │ sepal width │ petal length │ petal width │     class      │\n",
       "│    double    │   double    │    double    │   double    │    varchar     │\n",
       "├──────────────┼─────────────┼──────────────┼─────────────┼────────────────┤\n",
       "│          5.1 │         3.5 │          1.4 │         0.2 │ Iris-setosa    │\n",
       "│          4.9 │         3.0 │          1.4 │         0.2 │ Iris-setosa    │\n",
       "│          4.7 │         3.2 │          1.3 │         0.2 │ Iris-setosa    │\n",
       "│          4.6 │         3.1 │          1.5 │         0.2 │ Iris-setosa    │\n",
       "│          5.0 │         3.6 │          1.4 │         0.2 │ Iris-setosa    │\n",
       "│          5.4 │         3.9 │          1.7 │         0.4 │ Iris-setosa    │\n",
       "│          4.6 │         3.4 │          1.4 │         0.3 │ Iris-setosa    │\n",
       "│          5.0 │         3.4 │          1.5 │         0.2 │ Iris-setosa    │\n",
       "│          4.4 │         2.9 │          1.4 │         0.2 │ Iris-setosa    │\n",
       "│          4.9 │         3.1 │          1.5 │         0.1 │ Iris-setosa    │\n",
       "│           ·  │          ·  │           ·  │          ·  │      ·         │\n",
       "│           ·  │          ·  │           ·  │          ·  │      ·         │\n",
       "│           ·  │          ·  │           ·  │          ·  │      ·         │\n",
       "│          6.7 │         3.1 │          5.6 │         2.4 │ Iris-virginica │\n",
       "│          6.9 │         3.1 │          5.1 │         2.3 │ Iris-virginica │\n",
       "│          5.8 │         2.7 │          5.1 │         1.9 │ Iris-virginica │\n",
       "│          6.8 │         3.2 │          5.9 │         2.3 │ Iris-virginica │\n",
       "│          6.7 │         3.3 │          5.7 │         2.5 │ Iris-virginica │\n",
       "│          6.7 │         3.0 │          5.2 │         2.3 │ Iris-virginica │\n",
       "│          6.3 │         2.5 │          5.0 │         1.9 │ Iris-virginica │\n",
       "│          6.5 │         3.0 │          5.2 │         2.0 │ Iris-virginica │\n",
       "│          6.2 │         3.4 │          5.4 │         2.3 │ Iris-virginica │\n",
       "│          5.9 │         3.0 │          5.1 │         1.8 │ Iris-virginica │\n",
       "├──────────────┴─────────────┴──────────────┴─────────────┴────────────────┤\n",
       "│ 150 rows (20 shown)                                            5 columns │\n",
       "└──────────────────────────────────────────────────────────────────────────┘"
      ]
     },
     "execution_count": 16,
     "metadata": {},
     "output_type": "execute_result"
    }
   ],
   "source": [
    "duckdb.read_json(\n",
    "    \"https://github.com/plotly/datasets/raw/refs/heads/master/iris_data.json\"\n",
    ")"
   ]
  },
  {
   "cell_type": "markdown",
   "metadata": {},
   "source": [
    "複数ファイルの読み込み"
   ]
  },
  {
   "cell_type": "code",
   "execution_count": 17,
   "metadata": {},
   "outputs": [],
   "source": [
    "import pandas as pd\n",
    "\n",
    "pd.read_csv(\"data/sample1.csv\").to_json(\"data/sample1.json\", orient=\"records\")\n",
    "pd.read_csv(\"data/sample2.csv\").to_json(\"data/sample2.json\", orient=\"records\")"
   ]
  },
  {
   "cell_type": "code",
   "execution_count": 18,
   "metadata": {},
   "outputs": [
    {
     "data": {
      "text/plain": [
       "┌───────┬───────┐\n",
       "│ col1  │  col2 │\n",
       "│ int64 │ int64 │\n",
       "├───────┼───────┤\n",
       "│     1 │    10 │\n",
       "│     2 │    20 │\n",
       "└───────┴───────┘"
      ]
     },
     "execution_count": 18,
     "metadata": {},
     "output_type": "execute_result"
    }
   ],
   "source": [
    "duckdb.read_json(\"data/sample1.json\")"
   ]
  },
  {
   "cell_type": "code",
   "execution_count": 19,
   "metadata": {},
   "outputs": [
    {
     "data": {
      "text/plain": [
       "┌───────┬───────┐\n",
       "│ col1  │  col2 │\n",
       "│ int64 │ int64 │\n",
       "├───────┼───────┤\n",
       "│     1 │    10 │\n",
       "│     2 │    20 │\n",
       "│     3 │    30 │\n",
       "│     4 │    40 │\n",
       "└───────┴───────┘"
      ]
     },
     "execution_count": 19,
     "metadata": {},
     "output_type": "execute_result"
    }
   ],
   "source": [
    "duckdb.read_json(\"data/sample*.json\")"
   ]
  },
  {
   "cell_type": "markdown",
   "metadata": {},
   "source": [
    "SQL文による `read_json` の記述"
   ]
  },
  {
   "cell_type": "code",
   "execution_count": 20,
   "metadata": {},
   "outputs": [
    {
     "data": {
      "text/plain": [
       "┌───────┬───────┐\n",
       "│ col1  │  col2 │\n",
       "│ int64 │ int64 │\n",
       "├───────┼───────┤\n",
       "│     1 │    10 │\n",
       "│     2 │    20 │\n",
       "└───────┴───────┘"
      ]
     },
     "execution_count": 20,
     "metadata": {},
     "output_type": "execute_result"
    }
   ],
   "source": [
    "duckdb.sql(\"SELECT * FROM 'data/sample1.json'\")"
   ]
  },
  {
   "cell_type": "code",
   "execution_count": 21,
   "metadata": {},
   "outputs": [
    {
     "data": {
      "text/plain": [
       "┌───────┬───────┐\n",
       "│ col1  │  col2 │\n",
       "│ int64 │ int64 │\n",
       "├───────┼───────┤\n",
       "│     1 │    10 │\n",
       "│     2 │    20 │\n",
       "└───────┴───────┘"
      ]
     },
     "execution_count": 21,
     "metadata": {},
     "output_type": "execute_result"
    }
   ],
   "source": [
    "duckdb.sql(\"SELECT * FROM read_json('data/sample1.json')\")"
   ]
  },
  {
   "cell_type": "markdown",
   "metadata": {},
   "source": [
    "## pandas DataFrameへのアクセス"
   ]
  },
  {
   "cell_type": "code",
   "execution_count": 22,
   "metadata": {},
   "outputs": [
    {
     "data": {
      "text/plain": [
       "┌───────┬───────┐\n",
       "│ col1  │  col2 │\n",
       "│ int64 │ int64 │\n",
       "├───────┼───────┤\n",
       "│     1 │    10 │\n",
       "│     2 │    20 │\n",
       "└───────┴───────┘"
      ]
     },
     "execution_count": 22,
     "metadata": {},
     "output_type": "execute_result"
    }
   ],
   "source": [
    "df = pd.read_csv(\"data/sample1.csv\")\n",
    "duckdb.sql(\"SELECT * FROM df\")"
   ]
  },
  {
   "cell_type": "markdown",
   "metadata": {},
   "source": [
    "## Arrowオブジェクトへのアクセス"
   ]
  },
  {
   "cell_type": "code",
   "execution_count": 23,
   "metadata": {},
   "outputs": [
    {
     "data": {
      "text/plain": [
       "┌───────┬───────┐\n",
       "│ col1  │ col2  │\n",
       "│ int64 │ int64 │\n",
       "├───────┼───────┤\n",
       "│     1 │    10 │\n",
       "│     2 │    20 │\n",
       "└───────┴───────┘"
      ]
     },
     "execution_count": 23,
     "metadata": {},
     "output_type": "execute_result"
    }
   ],
   "source": [
    "duckdb.sql(\"SELECT * FROM table1\")"
   ]
  }
 ],
 "metadata": {
  "kernelspec": {
   "display_name": ".venv",
   "language": "python",
   "name": "python3"
  },
  "language_info": {
   "codemirror_mode": {
    "name": "ipython",
    "version": 3
   },
   "file_extension": ".py",
   "mimetype": "text/x-python",
   "name": "python",
   "nbconvert_exporter": "python",
   "pygments_lexer": "ipython3",
   "version": "3.12.5"
  }
 },
 "nbformat": 4,
 "nbformat_minor": 2
}
