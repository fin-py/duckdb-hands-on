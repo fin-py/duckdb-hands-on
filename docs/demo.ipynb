{
 "cells": [
  {
   "cell_type": "markdown",
   "metadata": {},
   "source": [
    "# デモ 〜pandas vs DuckDB〜\n",
    "\n",
    "groupbyの処理をpandasとDuckDBでそれぞれ実行\n",
    "\n",
    "pandas\n",
    "\n",
    "```python\n",
    "pd.read_parquet(\"cpi.parquet\").groupby(\"cat01_code\").get_group(1).groupby(\n",
    "    \"area_code\"\n",
    ").get_group(\"00000\").groupby(\"time_code\", as_index=False)[\"value\"].mean()\n",
    "```    \n",
    "\n",
    "DuckDB\n",
    "\n",
    "```sql\n",
    "SELECT time_code, avg(value)\n",
    "FROM '{table}'\n",
    "WHERE cat01_code = 1\n",
    "AND area_code = '00000'\n",
    "GROUP BY time_code\n",
    "ORDER BY time_code\n",
    "```"
   ]
  },
  {
   "cell_type": "code",
   "execution_count": 7,
   "metadata": {
    "tags": [
     "remove-input",
     "remove-output"
    ]
   },
   "outputs": [
    {
     "name": "stderr",
     "output_type": "stream",
     "text": [
      "File already exists, will not overwrite: pandas-query.csv\n"
     ]
    },
    {
     "name": "stdout",
     "output_type": "stream",
     "text": [
      "\u001b[2K  \u001b[36mCalculating high watermark...\u001b[0m \u001b[38;2;114;156;31m━━━━━━━━━━━━━━━━━━━━━━━━━━━━━━━━━━━\u001b[0m \u001b[35m100%\u001b[0m \u001b[36m0:00:00\u001b[0m━━━━\u001b[0m \u001b[35m 35%\u001b[0m \u001b[36m-:--:--\u001b[0m\n",
      "\u001b[2K  \u001b[36mProcessing allocation records...\u001b[0m \u001b[38;2;114;156;31m━━━━━━━━━━━━━━━━━━━━━━━━━━━━━━━━\u001b[0m \u001b[35m100%\u001b[0m \u001b[36m0:00:00\u001b[0m━━━━\u001b[0m \u001b[35m 51%\u001b[0m \u001b[36m-:--:--\u001b[0m\n",
      "\u001b[1A\u001b[2KWrote duckdb-query.csv\n"
     ]
    }
   ],
   "source": [
    "import subprocess\n",
    "import time\n",
    "from pathlib import Path\n",
    "\n",
    "import duckdb\n",
    "import memray\n",
    "import pandas as pd\n",
    "from plotly.subplots import make_subplots\n",
    "import plotly.graph_objects as go\n",
    "import plotly.express as px\n",
    "\n",
    "p = Path()\n",
    "tracker_duckdb_path = p / \"duckdb-query.bin\"\n",
    "tracker_pandas_path = p / \"pandas-query.bin\"\n",
    "csv_duckdb_path = p / f\"{tracker_duckdb_path.stem}.csv\"\n",
    "csv_pandas_path = p / f\"{tracker_pandas_path.stem}.csv\"\n",
    "\n",
    "tracker_duckdb_path.unlink(missing_ok=True)\n",
    "tracker_pandas_path.unlink(missing_ok=True)\n",
    "with memray.Tracker(tracker_pandas_path):\n",
    "    start_pandas = time.time()\n",
    "    time_code_pandas = (\n",
    "        pd.read_parquet(\"data/cpi.parquet\")\n",
    "        .groupby(\"cat01_code\")\n",
    "        .get_group(1)\n",
    "        .groupby(\"area_code\")\n",
    "        .get_group(\"00000\")\n",
    "        .groupby(\"time_code\", as_index=False)[\"value\"]\n",
    "        .mean()\n",
    "    )\n",
    "    end_pandas = time.time()\n",
    "    time_diff_pandas = end_pandas - start_pandas\n",
    "\n",
    "\n",
    "with memray.Tracker(tracker_duckdb_path):\n",
    "    start_duckdb = time.time()\n",
    "    time_code_duckdb = duckdb.sql(\"\"\"\n",
    "        SELECT time_code, avg(value)\n",
    "        FROM 'data/cpi.parquet'\n",
    "        WHERE cat01_code = 1\n",
    "        AND area_code = '00000'\n",
    "        GROUP BY time_code\n",
    "        ORDER BY time_code\n",
    "        \"\"\").to_df()\n",
    "    end_duckdb = time.time()\n",
    "    time_diff_duckdb = end_duckdb - start_duckdb\n",
    "proc = subprocess.run(\n",
    "    [\n",
    "        \"python\",\n",
    "        \"-m\",\n",
    "        \"memray\",\n",
    "        \"transform\",\n",
    "        \"csv\",\n",
    "        str(tracker_pandas_path),\n",
    "        \"-o\",\n",
    "        str(csv_pandas_path),\n",
    "    ]\n",
    ")\n",
    "proc = subprocess.run(\n",
    "    [\n",
    "        \"python\",\n",
    "        \"-m\",\n",
    "        \"memray\",\n",
    "        \"transform\",\n",
    "        \"csv\",\n",
    "        str(tracker_duckdb_path),\n",
    "        \"-o\",\n",
    "        str(csv_duckdb_path),\n",
    "    ]\n",
    ")\n",
    "memory_pandas = pd.read_csv(csv_pandas_path).pipe(\n",
    "    lambda df: df.assign(\n",
    "        stack_trace_stem=df.loc[:, \"stack_trace\"].map(lambda x: str(x).split(\"/\")[-1])\n",
    "    )\n",
    ")\n",
    "memory_duckdb = pd.read_csv(csv_duckdb_path).pipe(\n",
    "    lambda df: df.assign(\n",
    "        stack_trace_stem=df.loc[:, \"stack_trace\"].map(lambda x: str(x).split(\"/\")[-1])\n",
    "    )\n",
    ")\n",
    "tracker_duckdb_path.unlink(missing_ok=True)\n",
    "tracker_pandas_path.unlink(missing_ok=True)\n",
    "csv_duckdb_path.unlink(missing_ok=True)\n",
    "csv_pandas_path.unlink(missing_ok=True)"
   ]
  },
  {
   "cell_type": "code",
   "execution_count": 8,
   "metadata": {
    "tags": [
     "remove-input"
    ]
   },
   "outputs": [
    {
     "data": {
      "application/vnd.plotly.v1+json": {
       "config": {
        "plotlyServerURL": "https://plot.ly"
       },
       "data": [
        {
         "name": "duckdb",
         "text": [
          "<module>;/tmp/ipykernel_67015/394439121.py;37",
          "<module>;/tmp/ipykernel_67015/394439121.py;44",
          null
         ],
         "type": "bar",
         "x": [
          3053,
          354001,
          2633328
         ],
         "xaxis": "x",
         "yaxis": "y"
        },
        {
         "name": "pandas",
         "text": [
          "full;/home/driller/repo/duckdb-hands-on/.venv/lib/python3.12/site-packages/numpy/_core/numeric.py;365|maybe_convert_platform;/home/driller/repo/duckdb-hands-on/.venv/lib/python3.12/site-packages/pandas/core/dtypes/cast.py;138|sanitize_array;/home/driller/repo/duckdb-hands-on/.venv/lib/python3.12/site-packages/pandas/core/construction.py;654|__new__;/home/driller/repo/duckdb-hands-on/.venv/lib/python3.12/site-packages/pandas/core/indexes/base.py;565|_deserialize_column_index;/home/driller/repo/duckdb-hands-on/.venv/lib/python3.12/site-packages/pyarrow/pandas_compat.py;913|table_to_dataframe;/home/driller/repo/duckdb-hands-on/.venv/lib/python3.12/site-packages/pyarrow/pandas_compat.py;781|read;/home/driller/repo/duckdb-hands-on/.venv/lib/python3.12/site-packages/pandas/io/parquet.py;281|read_parquet;/home/driller/repo/duckdb-hands-on/.venv/lib/python3.12/site-packages/pandas/io/parquet.py;667|<module>;/tmp/ipykernel_15234/486226598.py;4",
          "table_to_dataframe;/home/driller/repo/duckdb-hands-on/.venv/lib/python3.12/site-packages/pyarrow/pandas_compat.py;784|read;/home/driller/repo/duckdb-hands-on/.venv/lib/python3.12/site-packages/pandas/io/parquet.py;281|read_parquet;/home/driller/repo/duckdb-hands-on/.venv/lib/python3.12/site-packages/pandas/io/parquet.py;667|<module>;/tmp/ipykernel_15234/486226598.py;4",
          null,
          "safe_sort;/home/driller/repo/duckdb-hands-on/.venv/lib/python3.12/site-packages/pandas/core/algorithms.py;1517|factorize;/home/driller/repo/duckdb-hands-on/.venv/lib/python3.12/site-packages/pandas/core/algorithms.py;802|_codes_and_uniques;/home/driller/repo/duckdb-hands-on/.venv/lib/python3.12/site-packages/pandas/core/groupby/grouper.py;835|_group_index;/home/driller/repo/duckdb-hands-on/.venv/lib/python3.12/site-packages/pandas/core/groupby/grouper.py;746|_result_index;/home/driller/repo/duckdb-hands-on/.venv/lib/python3.12/site-packages/pandas/core/groupby/grouper.py;732|result_index;/home/driller/repo/duckdb-hands-on/.venv/lib/python3.12/site-packages/pandas/core/groupby/ops.py;785|indices;/home/driller/repo/duckdb-hands-on/.venv/lib/python3.12/site-packages/pandas/core/groupby/ops.py;653|indices;/home/driller/repo/duckdb-hands-on/.venv/lib/python3.12/site-packages/pandas/core/groupby/groupby.py;906|_get_indices;/home/driller/repo/duckdb-hands-on/.venv/lib/python3.12/site-packages/pandas/core/groupby/groupby.py;928|_get_index;/home/driller/repo/duckdb-hands-on/.venv/lib/python3.12/site-packages/pandas/core/groupby/groupby.py;964|get_group;/home/driller/repo/duckdb-hands-on/.venv/lib/python3.12/site-packages/pandas/core/groupby/groupby.py;1112|<module>;/tmp/ipykernel_15234/486226598.py;6",
          "safe_sort;/home/driller/repo/duckdb-hands-on/.venv/lib/python3.12/site-packages/pandas/core/algorithms.py;1557|factorize;/home/driller/repo/duckdb-hands-on/.venv/lib/python3.12/site-packages/pandas/core/algorithms.py;802|_codes_and_uniques;/home/driller/repo/duckdb-hands-on/.venv/lib/python3.12/site-packages/pandas/core/groupby/grouper.py;835|_group_index;/home/driller/repo/duckdb-hands-on/.venv/lib/python3.12/site-packages/pandas/core/groupby/grouper.py;746|_result_index;/home/driller/repo/duckdb-hands-on/.venv/lib/python3.12/site-packages/pandas/core/groupby/grouper.py;732|result_index;/home/driller/repo/duckdb-hands-on/.venv/lib/python3.12/site-packages/pandas/core/groupby/ops.py;785|indices;/home/driller/repo/duckdb-hands-on/.venv/lib/python3.12/site-packages/pandas/core/groupby/ops.py;653|indices;/home/driller/repo/duckdb-hands-on/.venv/lib/python3.12/site-packages/pandas/core/groupby/groupby.py;906|_get_indices;/home/driller/repo/duckdb-hands-on/.venv/lib/python3.12/site-packages/pandas/core/groupby/groupby.py;928|_get_index;/home/driller/repo/duckdb-hands-on/.venv/lib/python3.12/site-packages/pandas/core/groupby/groupby.py;964|get_group;/home/driller/repo/duckdb-hands-on/.venv/lib/python3.12/site-packages/pandas/core/groupby/groupby.py;1112|<module>;/tmp/ipykernel_15234/486226598.py;6",
          "_take_nd_ndarray;/home/driller/repo/duckdb-hands-on/.venv/lib/python3.12/site-packages/pandas/core/array_algos/take.py;155|take_nd;/home/driller/repo/duckdb-hands-on/.venv/lib/python3.12/site-packages/pandas/core/array_algos/take.py;117|safe_sort;/home/driller/repo/duckdb-hands-on/.venv/lib/python3.12/site-packages/pandas/core/algorithms.py;1563|factorize;/home/driller/repo/duckdb-hands-on/.venv/lib/python3.12/site-packages/pandas/core/algorithms.py;802|_codes_and_uniques;/home/driller/repo/duckdb-hands-on/.venv/lib/python3.12/site-packages/pandas/core/groupby/grouper.py;835|_group_index;/home/driller/repo/duckdb-hands-on/.venv/lib/python3.12/site-packages/pandas/core/groupby/grouper.py;746|_result_index;/home/driller/repo/duckdb-hands-on/.venv/lib/python3.12/site-packages/pandas/core/groupby/grouper.py;732|result_index;/home/driller/repo/duckdb-hands-on/.venv/lib/python3.12/site-packages/pandas/core/groupby/ops.py;785|indices;/home/driller/repo/duckdb-hands-on/.venv/lib/python3.12/site-packages/pandas/core/groupby/ops.py;653|indices;/home/driller/repo/duckdb-hands-on/.venv/lib/python3.12/site-packages/pandas/core/groupby/groupby.py;906|_get_indices;/home/driller/repo/duckdb-hands-on/.venv/lib/python3.12/site-packages/pandas/core/groupby/groupby.py;928|_get_index;/home/driller/repo/duckdb-hands-on/.venv/lib/python3.12/site-packages/pandas/core/groupby/groupby.py;964|get_group;/home/driller/repo/duckdb-hands-on/.venv/lib/python3.12/site-packages/pandas/core/groupby/groupby.py;1112|<module>;/tmp/ipykernel_15234/486226598.py;6",
          "wait;/home/driller/.local/share/uv/python/cpython-3.12.5-linux-x86_64-gnu/lib/python3.12/threading.py;348|wait;/home/driller/.local/share/uv/python/cpython-3.12.5-linux-x86_64-gnu/lib/python3.12/threading.py;655|run;/home/driller/repo/duckdb-hands-on/.venv/lib/python3.12/site-packages/IPython/core/history.py;903|only_when_enabled;/home/driller/repo/duckdb-hands-on/.venv/lib/python3.12/site-packages/IPython/core/history.py;61|fun;/home/driller/repo/duckdb-hands-on/.venv/lib/python3.12/site-packages/decorator.py;232|_bootstrap_inner;/home/driller/.local/share/uv/python/cpython-3.12.5-linux-x86_64-gnu/lib/python3.12/threading.py;1075|_bootstrap;/home/driller/.local/share/uv/python/cpython-3.12.5-linux-x86_64-gnu/lib/python3.12/threading.py;1032",
          "__contains__;/home/driller/repo/duckdb-hands-on/.venv/lib/python3.12/site-packages/pandas/core/indexes/base.py;5360|__contains__;/home/driller/repo/duckdb-hands-on/.venv/lib/python3.12/site-packages/pandas/core/generic.py;2080|get_grouper;/home/driller/repo/duckdb-hands-on/.venv/lib/python3.12/site-packages/pandas/core/groupby/grouper.py;1031|__init__;/home/driller/repo/duckdb-hands-on/.venv/lib/python3.12/site-packages/pandas/core/groupby/groupby.py;1329|groupby;/home/driller/repo/duckdb-hands-on/.venv/lib/python3.12/site-packages/pandas/core/frame.py;9183|<module>;/tmp/ipykernel_15234/486226598.py;5",
          "factorize_array;/home/driller/repo/duckdb-hands-on/.venv/lib/python3.12/site-packages/pandas/core/algorithms.py;595|factorize;/home/driller/repo/duckdb-hands-on/.venv/lib/python3.12/site-packages/pandas/core/algorithms.py;795|_codes_and_uniques;/home/driller/repo/duckdb-hands-on/.venv/lib/python3.12/site-packages/pandas/core/groupby/grouper.py;835|_group_index;/home/driller/repo/duckdb-hands-on/.venv/lib/python3.12/site-packages/pandas/core/groupby/grouper.py;746|_result_index;/home/driller/repo/duckdb-hands-on/.venv/lib/python3.12/site-packages/pandas/core/groupby/grouper.py;732|result_index;/home/driller/repo/duckdb-hands-on/.venv/lib/python3.12/site-packages/pandas/core/groupby/ops.py;785|indices;/home/driller/repo/duckdb-hands-on/.venv/lib/python3.12/site-packages/pandas/core/groupby/ops.py;653|indices;/home/driller/repo/duckdb-hands-on/.venv/lib/python3.12/site-packages/pandas/core/groupby/groupby.py;906|_get_indices;/home/driller/repo/duckdb-hands-on/.venv/lib/python3.12/site-packages/pandas/core/groupby/groupby.py;928|_get_index;/home/driller/repo/duckdb-hands-on/.venv/lib/python3.12/site-packages/pandas/core/groupby/groupby.py;964|get_group;/home/driller/repo/duckdb-hands-on/.venv/lib/python3.12/site-packages/pandas/core/groupby/groupby.py;1112|<module>;/tmp/ipykernel_15234/486226598.py;6",
          "get_group_index;/home/driller/repo/duckdb-hands-on/.venv/lib/python3.12/site-packages/pandas/core/sorting.py;186|get_indexer_dict;/home/driller/repo/duckdb-hands-on/.venv/lib/python3.12/site-packages/pandas/core/sorting.py;622|indices;/home/driller/repo/duckdb-hands-on/.venv/lib/python3.12/site-packages/pandas/core/groupby/ops.py;658|indices;/home/driller/repo/duckdb-hands-on/.venv/lib/python3.12/site-packages/pandas/core/groupby/groupby.py;906|_get_indices;/home/driller/repo/duckdb-hands-on/.venv/lib/python3.12/site-packages/pandas/core/groupby/groupby.py;928|_get_index;/home/driller/repo/duckdb-hands-on/.venv/lib/python3.12/site-packages/pandas/core/groupby/groupby.py;964|get_group;/home/driller/repo/duckdb-hands-on/.venv/lib/python3.12/site-packages/pandas/core/groupby/groupby.py;1112|<module>;/tmp/ipykernel_15234/486226598.py;6",
          "get_group_index_sorter;/home/driller/repo/duckdb-hands-on/.venv/lib/python3.12/site-packages/pandas/core/sorting.py;677|get_indexer_dict;/home/driller/repo/duckdb-hands-on/.venv/lib/python3.12/site-packages/pandas/core/sorting.py;632|indices;/home/driller/repo/duckdb-hands-on/.venv/lib/python3.12/site-packages/pandas/core/groupby/ops.py;658|indices;/home/driller/repo/duckdb-hands-on/.venv/lib/python3.12/site-packages/pandas/core/groupby/groupby.py;906|_get_indices;/home/driller/repo/duckdb-hands-on/.venv/lib/python3.12/site-packages/pandas/core/groupby/groupby.py;928|_get_index;/home/driller/repo/duckdb-hands-on/.venv/lib/python3.12/site-packages/pandas/core/groupby/groupby.py;964|get_group;/home/driller/repo/duckdb-hands-on/.venv/lib/python3.12/site-packages/pandas/core/groupby/groupby.py;1112|<module>;/tmp/ipykernel_15234/486226598.py;6",
          "get_indexer_dict;/home/driller/repo/duckdb-hands-on/.venv/lib/python3.12/site-packages/pandas/core/sorting.py;634|indices;/home/driller/repo/duckdb-hands-on/.venv/lib/python3.12/site-packages/pandas/core/groupby/ops.py;658|indices;/home/driller/repo/duckdb-hands-on/.venv/lib/python3.12/site-packages/pandas/core/groupby/groupby.py;906|_get_indices;/home/driller/repo/duckdb-hands-on/.venv/lib/python3.12/site-packages/pandas/core/groupby/groupby.py;928|_get_index;/home/driller/repo/duckdb-hands-on/.venv/lib/python3.12/site-packages/pandas/core/groupby/groupby.py;964|get_group;/home/driller/repo/duckdb-hands-on/.venv/lib/python3.12/site-packages/pandas/core/groupby/groupby.py;1112|<module>;/tmp/ipykernel_15234/486226598.py;6",
          "get_indexer_dict;/home/driller/repo/duckdb-hands-on/.venv/lib/python3.12/site-packages/pandas/core/sorting.py;635|indices;/home/driller/repo/duckdb-hands-on/.venv/lib/python3.12/site-packages/pandas/core/groupby/ops.py;658|indices;/home/driller/repo/duckdb-hands-on/.venv/lib/python3.12/site-packages/pandas/core/groupby/groupby.py;906|_get_indices;/home/driller/repo/duckdb-hands-on/.venv/lib/python3.12/site-packages/pandas/core/groupby/groupby.py;928|_get_index;/home/driller/repo/duckdb-hands-on/.venv/lib/python3.12/site-packages/pandas/core/groupby/groupby.py;964|get_group;/home/driller/repo/duckdb-hands-on/.venv/lib/python3.12/site-packages/pandas/core/groupby/groupby.py;1112|<module>;/tmp/ipykernel_15234/486226598.py;6"
         ],
         "type": "bar",
         "x": [
          16,
          512,
          1404589808,
          6320,
          16,
          104074864,
          32,
          300,
          64,
          104074832,
          104074832,
          104074832,
          104074832
         ],
         "xaxis": "x2",
         "yaxis": "y2"
        }
       ],
       "layout": {
        "annotations": [
         {
          "font": {
           "size": 16
          },
          "showarrow": false,
          "text": "duckdb",
          "x": 0.5,
          "xanchor": "center",
          "xref": "paper",
          "y": 1,
          "yanchor": "bottom",
          "yref": "paper"
         },
         {
          "font": {
           "size": 16
          },
          "showarrow": false,
          "text": "pandas",
          "x": 0.5,
          "xanchor": "center",
          "xref": "paper",
          "y": 0.375,
          "yanchor": "bottom",
          "yref": "paper"
         }
        ],
        "height": 800,
        "template": {
         "data": {
          "bar": [
           {
            "error_x": {
             "color": "#2a3f5f"
            },
            "error_y": {
             "color": "#2a3f5f"
            },
            "marker": {
             "line": {
              "color": "#E5ECF6",
              "width": 0.5
             },
             "pattern": {
              "fillmode": "overlay",
              "size": 10,
              "solidity": 0.2
             }
            },
            "type": "bar"
           }
          ],
          "barpolar": [
           {
            "marker": {
             "line": {
              "color": "#E5ECF6",
              "width": 0.5
             },
             "pattern": {
              "fillmode": "overlay",
              "size": 10,
              "solidity": 0.2
             }
            },
            "type": "barpolar"
           }
          ],
          "carpet": [
           {
            "aaxis": {
             "endlinecolor": "#2a3f5f",
             "gridcolor": "white",
             "linecolor": "white",
             "minorgridcolor": "white",
             "startlinecolor": "#2a3f5f"
            },
            "baxis": {
             "endlinecolor": "#2a3f5f",
             "gridcolor": "white",
             "linecolor": "white",
             "minorgridcolor": "white",
             "startlinecolor": "#2a3f5f"
            },
            "type": "carpet"
           }
          ],
          "choropleth": [
           {
            "colorbar": {
             "outlinewidth": 0,
             "ticks": ""
            },
            "type": "choropleth"
           }
          ],
          "contour": [
           {
            "colorbar": {
             "outlinewidth": 0,
             "ticks": ""
            },
            "colorscale": [
             [
              0,
              "#0d0887"
             ],
             [
              0.1111111111111111,
              "#46039f"
             ],
             [
              0.2222222222222222,
              "#7201a8"
             ],
             [
              0.3333333333333333,
              "#9c179e"
             ],
             [
              0.4444444444444444,
              "#bd3786"
             ],
             [
              0.5555555555555556,
              "#d8576b"
             ],
             [
              0.6666666666666666,
              "#ed7953"
             ],
             [
              0.7777777777777778,
              "#fb9f3a"
             ],
             [
              0.8888888888888888,
              "#fdca26"
             ],
             [
              1,
              "#f0f921"
             ]
            ],
            "type": "contour"
           }
          ],
          "contourcarpet": [
           {
            "colorbar": {
             "outlinewidth": 0,
             "ticks": ""
            },
            "type": "contourcarpet"
           }
          ],
          "heatmap": [
           {
            "colorbar": {
             "outlinewidth": 0,
             "ticks": ""
            },
            "colorscale": [
             [
              0,
              "#0d0887"
             ],
             [
              0.1111111111111111,
              "#46039f"
             ],
             [
              0.2222222222222222,
              "#7201a8"
             ],
             [
              0.3333333333333333,
              "#9c179e"
             ],
             [
              0.4444444444444444,
              "#bd3786"
             ],
             [
              0.5555555555555556,
              "#d8576b"
             ],
             [
              0.6666666666666666,
              "#ed7953"
             ],
             [
              0.7777777777777778,
              "#fb9f3a"
             ],
             [
              0.8888888888888888,
              "#fdca26"
             ],
             [
              1,
              "#f0f921"
             ]
            ],
            "type": "heatmap"
           }
          ],
          "heatmapgl": [
           {
            "colorbar": {
             "outlinewidth": 0,
             "ticks": ""
            },
            "colorscale": [
             [
              0,
              "#0d0887"
             ],
             [
              0.1111111111111111,
              "#46039f"
             ],
             [
              0.2222222222222222,
              "#7201a8"
             ],
             [
              0.3333333333333333,
              "#9c179e"
             ],
             [
              0.4444444444444444,
              "#bd3786"
             ],
             [
              0.5555555555555556,
              "#d8576b"
             ],
             [
              0.6666666666666666,
              "#ed7953"
             ],
             [
              0.7777777777777778,
              "#fb9f3a"
             ],
             [
              0.8888888888888888,
              "#fdca26"
             ],
             [
              1,
              "#f0f921"
             ]
            ],
            "type": "heatmapgl"
           }
          ],
          "histogram": [
           {
            "marker": {
             "pattern": {
              "fillmode": "overlay",
              "size": 10,
              "solidity": 0.2
             }
            },
            "type": "histogram"
           }
          ],
          "histogram2d": [
           {
            "colorbar": {
             "outlinewidth": 0,
             "ticks": ""
            },
            "colorscale": [
             [
              0,
              "#0d0887"
             ],
             [
              0.1111111111111111,
              "#46039f"
             ],
             [
              0.2222222222222222,
              "#7201a8"
             ],
             [
              0.3333333333333333,
              "#9c179e"
             ],
             [
              0.4444444444444444,
              "#bd3786"
             ],
             [
              0.5555555555555556,
              "#d8576b"
             ],
             [
              0.6666666666666666,
              "#ed7953"
             ],
             [
              0.7777777777777778,
              "#fb9f3a"
             ],
             [
              0.8888888888888888,
              "#fdca26"
             ],
             [
              1,
              "#f0f921"
             ]
            ],
            "type": "histogram2d"
           }
          ],
          "histogram2dcontour": [
           {
            "colorbar": {
             "outlinewidth": 0,
             "ticks": ""
            },
            "colorscale": [
             [
              0,
              "#0d0887"
             ],
             [
              0.1111111111111111,
              "#46039f"
             ],
             [
              0.2222222222222222,
              "#7201a8"
             ],
             [
              0.3333333333333333,
              "#9c179e"
             ],
             [
              0.4444444444444444,
              "#bd3786"
             ],
             [
              0.5555555555555556,
              "#d8576b"
             ],
             [
              0.6666666666666666,
              "#ed7953"
             ],
             [
              0.7777777777777778,
              "#fb9f3a"
             ],
             [
              0.8888888888888888,
              "#fdca26"
             ],
             [
              1,
              "#f0f921"
             ]
            ],
            "type": "histogram2dcontour"
           }
          ],
          "mesh3d": [
           {
            "colorbar": {
             "outlinewidth": 0,
             "ticks": ""
            },
            "type": "mesh3d"
           }
          ],
          "parcoords": [
           {
            "line": {
             "colorbar": {
              "outlinewidth": 0,
              "ticks": ""
             }
            },
            "type": "parcoords"
           }
          ],
          "pie": [
           {
            "automargin": true,
            "type": "pie"
           }
          ],
          "scatter": [
           {
            "fillpattern": {
             "fillmode": "overlay",
             "size": 10,
             "solidity": 0.2
            },
            "type": "scatter"
           }
          ],
          "scatter3d": [
           {
            "line": {
             "colorbar": {
              "outlinewidth": 0,
              "ticks": ""
             }
            },
            "marker": {
             "colorbar": {
              "outlinewidth": 0,
              "ticks": ""
             }
            },
            "type": "scatter3d"
           }
          ],
          "scattercarpet": [
           {
            "marker": {
             "colorbar": {
              "outlinewidth": 0,
              "ticks": ""
             }
            },
            "type": "scattercarpet"
           }
          ],
          "scattergeo": [
           {
            "marker": {
             "colorbar": {
              "outlinewidth": 0,
              "ticks": ""
             }
            },
            "type": "scattergeo"
           }
          ],
          "scattergl": [
           {
            "marker": {
             "colorbar": {
              "outlinewidth": 0,
              "ticks": ""
             }
            },
            "type": "scattergl"
           }
          ],
          "scattermapbox": [
           {
            "marker": {
             "colorbar": {
              "outlinewidth": 0,
              "ticks": ""
             }
            },
            "type": "scattermapbox"
           }
          ],
          "scatterpolar": [
           {
            "marker": {
             "colorbar": {
              "outlinewidth": 0,
              "ticks": ""
             }
            },
            "type": "scatterpolar"
           }
          ],
          "scatterpolargl": [
           {
            "marker": {
             "colorbar": {
              "outlinewidth": 0,
              "ticks": ""
             }
            },
            "type": "scatterpolargl"
           }
          ],
          "scatterternary": [
           {
            "marker": {
             "colorbar": {
              "outlinewidth": 0,
              "ticks": ""
             }
            },
            "type": "scatterternary"
           }
          ],
          "surface": [
           {
            "colorbar": {
             "outlinewidth": 0,
             "ticks": ""
            },
            "colorscale": [
             [
              0,
              "#0d0887"
             ],
             [
              0.1111111111111111,
              "#46039f"
             ],
             [
              0.2222222222222222,
              "#7201a8"
             ],
             [
              0.3333333333333333,
              "#9c179e"
             ],
             [
              0.4444444444444444,
              "#bd3786"
             ],
             [
              0.5555555555555556,
              "#d8576b"
             ],
             [
              0.6666666666666666,
              "#ed7953"
             ],
             [
              0.7777777777777778,
              "#fb9f3a"
             ],
             [
              0.8888888888888888,
              "#fdca26"
             ],
             [
              1,
              "#f0f921"
             ]
            ],
            "type": "surface"
           }
          ],
          "table": [
           {
            "cells": {
             "fill": {
              "color": "#EBF0F8"
             },
             "line": {
              "color": "white"
             }
            },
            "header": {
             "fill": {
              "color": "#C8D4E3"
             },
             "line": {
              "color": "white"
             }
            },
            "type": "table"
           }
          ]
         },
         "layout": {
          "annotationdefaults": {
           "arrowcolor": "#2a3f5f",
           "arrowhead": 0,
           "arrowwidth": 1
          },
          "autotypenumbers": "strict",
          "coloraxis": {
           "colorbar": {
            "outlinewidth": 0,
            "ticks": ""
           }
          },
          "colorscale": {
           "diverging": [
            [
             0,
             "#8e0152"
            ],
            [
             0.1,
             "#c51b7d"
            ],
            [
             0.2,
             "#de77ae"
            ],
            [
             0.3,
             "#f1b6da"
            ],
            [
             0.4,
             "#fde0ef"
            ],
            [
             0.5,
             "#f7f7f7"
            ],
            [
             0.6,
             "#e6f5d0"
            ],
            [
             0.7,
             "#b8e186"
            ],
            [
             0.8,
             "#7fbc41"
            ],
            [
             0.9,
             "#4d9221"
            ],
            [
             1,
             "#276419"
            ]
           ],
           "sequential": [
            [
             0,
             "#0d0887"
            ],
            [
             0.1111111111111111,
             "#46039f"
            ],
            [
             0.2222222222222222,
             "#7201a8"
            ],
            [
             0.3333333333333333,
             "#9c179e"
            ],
            [
             0.4444444444444444,
             "#bd3786"
            ],
            [
             0.5555555555555556,
             "#d8576b"
            ],
            [
             0.6666666666666666,
             "#ed7953"
            ],
            [
             0.7777777777777778,
             "#fb9f3a"
            ],
            [
             0.8888888888888888,
             "#fdca26"
            ],
            [
             1,
             "#f0f921"
            ]
           ],
           "sequentialminus": [
            [
             0,
             "#0d0887"
            ],
            [
             0.1111111111111111,
             "#46039f"
            ],
            [
             0.2222222222222222,
             "#7201a8"
            ],
            [
             0.3333333333333333,
             "#9c179e"
            ],
            [
             0.4444444444444444,
             "#bd3786"
            ],
            [
             0.5555555555555556,
             "#d8576b"
            ],
            [
             0.6666666666666666,
             "#ed7953"
            ],
            [
             0.7777777777777778,
             "#fb9f3a"
            ],
            [
             0.8888888888888888,
             "#fdca26"
            ],
            [
             1,
             "#f0f921"
            ]
           ]
          },
          "colorway": [
           "#636efa",
           "#EF553B",
           "#00cc96",
           "#ab63fa",
           "#FFA15A",
           "#19d3f3",
           "#FF6692",
           "#B6E880",
           "#FF97FF",
           "#FECB52"
          ],
          "font": {
           "color": "#2a3f5f"
          },
          "geo": {
           "bgcolor": "white",
           "lakecolor": "white",
           "landcolor": "#E5ECF6",
           "showlakes": true,
           "showland": true,
           "subunitcolor": "white"
          },
          "hoverlabel": {
           "align": "left"
          },
          "hovermode": "closest",
          "mapbox": {
           "style": "light"
          },
          "paper_bgcolor": "white",
          "plot_bgcolor": "#E5ECF6",
          "polar": {
           "angularaxis": {
            "gridcolor": "white",
            "linecolor": "white",
            "ticks": ""
           },
           "bgcolor": "#E5ECF6",
           "radialaxis": {
            "gridcolor": "white",
            "linecolor": "white",
            "ticks": ""
           }
          },
          "scene": {
           "xaxis": {
            "backgroundcolor": "#E5ECF6",
            "gridcolor": "white",
            "gridwidth": 2,
            "linecolor": "white",
            "showbackground": true,
            "ticks": "",
            "zerolinecolor": "white"
           },
           "yaxis": {
            "backgroundcolor": "#E5ECF6",
            "gridcolor": "white",
            "gridwidth": 2,
            "linecolor": "white",
            "showbackground": true,
            "ticks": "",
            "zerolinecolor": "white"
           },
           "zaxis": {
            "backgroundcolor": "#E5ECF6",
            "gridcolor": "white",
            "gridwidth": 2,
            "linecolor": "white",
            "showbackground": true,
            "ticks": "",
            "zerolinecolor": "white"
           }
          },
          "shapedefaults": {
           "line": {
            "color": "#2a3f5f"
           }
          },
          "ternary": {
           "aaxis": {
            "gridcolor": "white",
            "linecolor": "white",
            "ticks": ""
           },
           "baxis": {
            "gridcolor": "white",
            "linecolor": "white",
            "ticks": ""
           },
           "bgcolor": "#E5ECF6",
           "caxis": {
            "gridcolor": "white",
            "linecolor": "white",
            "ticks": ""
           }
          },
          "title": {
           "x": 0.05
          },
          "xaxis": {
           "automargin": true,
           "gridcolor": "white",
           "linecolor": "white",
           "ticks": "",
           "title": {
            "standoff": 15
           },
           "zerolinecolor": "white",
           "zerolinewidth": 2
          },
          "yaxis": {
           "automargin": true,
           "gridcolor": "white",
           "linecolor": "white",
           "ticks": "",
           "title": {
            "standoff": 15
           },
           "zerolinecolor": "white",
           "zerolinewidth": 2
          }
         }
        },
        "title": {
         "text": "Memory"
        },
        "xaxis": {
         "anchor": "y",
         "domain": [
          0,
          1
         ],
         "matches": "x2",
         "showticklabels": false
        },
        "xaxis2": {
         "anchor": "y2",
         "domain": [
          0,
          1
         ]
        },
        "yaxis": {
         "anchor": "x",
         "domain": [
          0.625,
          1
         ],
         "showticklabels": false
        },
        "yaxis2": {
         "anchor": "x2",
         "domain": [
          0,
          0.375
         ],
         "showticklabels": false
        }
       }
      }
     },
     "metadata": {},
     "output_type": "display_data"
    }
   ],
   "source": [
    "fig = make_subplots(\n",
    "    rows=2, cols=1, shared_xaxes=True, subplot_titles=[\"duckdb\", \"pandas\"]\n",
    ")\n",
    "fig.add_trace(\n",
    "    go.Bar(\n",
    "        x=memory_duckdb.loc[:, \"size\"].values,\n",
    "        text=memory_duckdb.loc[:, \"stack_trace\"].values,\n",
    "        name=\"duckdb\",\n",
    "    ),\n",
    "    row=1,\n",
    "    col=1,\n",
    ")\n",
    "fig.add_trace(\n",
    "    go.Bar(\n",
    "        x=memory_pandas.loc[:, \"size\"].values,\n",
    "        text=memory_pandas.loc[:, \"stack_trace\"].values,\n",
    "        name=\"pandas\",\n",
    "    ),\n",
    "    row=2,\n",
    "    col=1,\n",
    ")\n",
    "fig.update_yaxes(showticklabels=False)\n",
    "fig.update_layout(title=\"Memory\", height=800)"
   ]
  },
  {
   "cell_type": "code",
   "execution_count": 9,
   "metadata": {
    "tags": [
     "remove-input"
    ]
   },
   "outputs": [
    {
     "data": {
      "application/vnd.plotly.v1+json": {
       "config": {
        "plotlyServerURL": "https://plot.ly"
       },
       "data": [
        {
         "alignmentgroup": "True",
         "hovertemplate": "x=%{x}<br>y=%{y}<extra></extra>",
         "legendgroup": "",
         "marker": {
          "color": "#636efa",
          "pattern": {
           "shape": ""
          }
         },
         "name": "",
         "offsetgroup": "",
         "orientation": "v",
         "showlegend": false,
         "textposition": "auto",
         "type": "bar",
         "x": [
          "pandas",
          "DuckDB"
         ],
         "xaxis": "x",
         "y": [
          1.6862058639526367,
          0.11051774024963379
         ],
         "yaxis": "y"
        }
       ],
       "layout": {
        "barmode": "relative",
        "legend": {
         "tracegroupgap": 0
        },
        "template": {
         "data": {
          "bar": [
           {
            "error_x": {
             "color": "#2a3f5f"
            },
            "error_y": {
             "color": "#2a3f5f"
            },
            "marker": {
             "line": {
              "color": "#E5ECF6",
              "width": 0.5
             },
             "pattern": {
              "fillmode": "overlay",
              "size": 10,
              "solidity": 0.2
             }
            },
            "type": "bar"
           }
          ],
          "barpolar": [
           {
            "marker": {
             "line": {
              "color": "#E5ECF6",
              "width": 0.5
             },
             "pattern": {
              "fillmode": "overlay",
              "size": 10,
              "solidity": 0.2
             }
            },
            "type": "barpolar"
           }
          ],
          "carpet": [
           {
            "aaxis": {
             "endlinecolor": "#2a3f5f",
             "gridcolor": "white",
             "linecolor": "white",
             "minorgridcolor": "white",
             "startlinecolor": "#2a3f5f"
            },
            "baxis": {
             "endlinecolor": "#2a3f5f",
             "gridcolor": "white",
             "linecolor": "white",
             "minorgridcolor": "white",
             "startlinecolor": "#2a3f5f"
            },
            "type": "carpet"
           }
          ],
          "choropleth": [
           {
            "colorbar": {
             "outlinewidth": 0,
             "ticks": ""
            },
            "type": "choropleth"
           }
          ],
          "contour": [
           {
            "colorbar": {
             "outlinewidth": 0,
             "ticks": ""
            },
            "colorscale": [
             [
              0,
              "#0d0887"
             ],
             [
              0.1111111111111111,
              "#46039f"
             ],
             [
              0.2222222222222222,
              "#7201a8"
             ],
             [
              0.3333333333333333,
              "#9c179e"
             ],
             [
              0.4444444444444444,
              "#bd3786"
             ],
             [
              0.5555555555555556,
              "#d8576b"
             ],
             [
              0.6666666666666666,
              "#ed7953"
             ],
             [
              0.7777777777777778,
              "#fb9f3a"
             ],
             [
              0.8888888888888888,
              "#fdca26"
             ],
             [
              1,
              "#f0f921"
             ]
            ],
            "type": "contour"
           }
          ],
          "contourcarpet": [
           {
            "colorbar": {
             "outlinewidth": 0,
             "ticks": ""
            },
            "type": "contourcarpet"
           }
          ],
          "heatmap": [
           {
            "colorbar": {
             "outlinewidth": 0,
             "ticks": ""
            },
            "colorscale": [
             [
              0,
              "#0d0887"
             ],
             [
              0.1111111111111111,
              "#46039f"
             ],
             [
              0.2222222222222222,
              "#7201a8"
             ],
             [
              0.3333333333333333,
              "#9c179e"
             ],
             [
              0.4444444444444444,
              "#bd3786"
             ],
             [
              0.5555555555555556,
              "#d8576b"
             ],
             [
              0.6666666666666666,
              "#ed7953"
             ],
             [
              0.7777777777777778,
              "#fb9f3a"
             ],
             [
              0.8888888888888888,
              "#fdca26"
             ],
             [
              1,
              "#f0f921"
             ]
            ],
            "type": "heatmap"
           }
          ],
          "heatmapgl": [
           {
            "colorbar": {
             "outlinewidth": 0,
             "ticks": ""
            },
            "colorscale": [
             [
              0,
              "#0d0887"
             ],
             [
              0.1111111111111111,
              "#46039f"
             ],
             [
              0.2222222222222222,
              "#7201a8"
             ],
             [
              0.3333333333333333,
              "#9c179e"
             ],
             [
              0.4444444444444444,
              "#bd3786"
             ],
             [
              0.5555555555555556,
              "#d8576b"
             ],
             [
              0.6666666666666666,
              "#ed7953"
             ],
             [
              0.7777777777777778,
              "#fb9f3a"
             ],
             [
              0.8888888888888888,
              "#fdca26"
             ],
             [
              1,
              "#f0f921"
             ]
            ],
            "type": "heatmapgl"
           }
          ],
          "histogram": [
           {
            "marker": {
             "pattern": {
              "fillmode": "overlay",
              "size": 10,
              "solidity": 0.2
             }
            },
            "type": "histogram"
           }
          ],
          "histogram2d": [
           {
            "colorbar": {
             "outlinewidth": 0,
             "ticks": ""
            },
            "colorscale": [
             [
              0,
              "#0d0887"
             ],
             [
              0.1111111111111111,
              "#46039f"
             ],
             [
              0.2222222222222222,
              "#7201a8"
             ],
             [
              0.3333333333333333,
              "#9c179e"
             ],
             [
              0.4444444444444444,
              "#bd3786"
             ],
             [
              0.5555555555555556,
              "#d8576b"
             ],
             [
              0.6666666666666666,
              "#ed7953"
             ],
             [
              0.7777777777777778,
              "#fb9f3a"
             ],
             [
              0.8888888888888888,
              "#fdca26"
             ],
             [
              1,
              "#f0f921"
             ]
            ],
            "type": "histogram2d"
           }
          ],
          "histogram2dcontour": [
           {
            "colorbar": {
             "outlinewidth": 0,
             "ticks": ""
            },
            "colorscale": [
             [
              0,
              "#0d0887"
             ],
             [
              0.1111111111111111,
              "#46039f"
             ],
             [
              0.2222222222222222,
              "#7201a8"
             ],
             [
              0.3333333333333333,
              "#9c179e"
             ],
             [
              0.4444444444444444,
              "#bd3786"
             ],
             [
              0.5555555555555556,
              "#d8576b"
             ],
             [
              0.6666666666666666,
              "#ed7953"
             ],
             [
              0.7777777777777778,
              "#fb9f3a"
             ],
             [
              0.8888888888888888,
              "#fdca26"
             ],
             [
              1,
              "#f0f921"
             ]
            ],
            "type": "histogram2dcontour"
           }
          ],
          "mesh3d": [
           {
            "colorbar": {
             "outlinewidth": 0,
             "ticks": ""
            },
            "type": "mesh3d"
           }
          ],
          "parcoords": [
           {
            "line": {
             "colorbar": {
              "outlinewidth": 0,
              "ticks": ""
             }
            },
            "type": "parcoords"
           }
          ],
          "pie": [
           {
            "automargin": true,
            "type": "pie"
           }
          ],
          "scatter": [
           {
            "fillpattern": {
             "fillmode": "overlay",
             "size": 10,
             "solidity": 0.2
            },
            "type": "scatter"
           }
          ],
          "scatter3d": [
           {
            "line": {
             "colorbar": {
              "outlinewidth": 0,
              "ticks": ""
             }
            },
            "marker": {
             "colorbar": {
              "outlinewidth": 0,
              "ticks": ""
             }
            },
            "type": "scatter3d"
           }
          ],
          "scattercarpet": [
           {
            "marker": {
             "colorbar": {
              "outlinewidth": 0,
              "ticks": ""
             }
            },
            "type": "scattercarpet"
           }
          ],
          "scattergeo": [
           {
            "marker": {
             "colorbar": {
              "outlinewidth": 0,
              "ticks": ""
             }
            },
            "type": "scattergeo"
           }
          ],
          "scattergl": [
           {
            "marker": {
             "colorbar": {
              "outlinewidth": 0,
              "ticks": ""
             }
            },
            "type": "scattergl"
           }
          ],
          "scattermapbox": [
           {
            "marker": {
             "colorbar": {
              "outlinewidth": 0,
              "ticks": ""
             }
            },
            "type": "scattermapbox"
           }
          ],
          "scatterpolar": [
           {
            "marker": {
             "colorbar": {
              "outlinewidth": 0,
              "ticks": ""
             }
            },
            "type": "scatterpolar"
           }
          ],
          "scatterpolargl": [
           {
            "marker": {
             "colorbar": {
              "outlinewidth": 0,
              "ticks": ""
             }
            },
            "type": "scatterpolargl"
           }
          ],
          "scatterternary": [
           {
            "marker": {
             "colorbar": {
              "outlinewidth": 0,
              "ticks": ""
             }
            },
            "type": "scatterternary"
           }
          ],
          "surface": [
           {
            "colorbar": {
             "outlinewidth": 0,
             "ticks": ""
            },
            "colorscale": [
             [
              0,
              "#0d0887"
             ],
             [
              0.1111111111111111,
              "#46039f"
             ],
             [
              0.2222222222222222,
              "#7201a8"
             ],
             [
              0.3333333333333333,
              "#9c179e"
             ],
             [
              0.4444444444444444,
              "#bd3786"
             ],
             [
              0.5555555555555556,
              "#d8576b"
             ],
             [
              0.6666666666666666,
              "#ed7953"
             ],
             [
              0.7777777777777778,
              "#fb9f3a"
             ],
             [
              0.8888888888888888,
              "#fdca26"
             ],
             [
              1,
              "#f0f921"
             ]
            ],
            "type": "surface"
           }
          ],
          "table": [
           {
            "cells": {
             "fill": {
              "color": "#EBF0F8"
             },
             "line": {
              "color": "white"
             }
            },
            "header": {
             "fill": {
              "color": "#C8D4E3"
             },
             "line": {
              "color": "white"
             }
            },
            "type": "table"
           }
          ]
         },
         "layout": {
          "annotationdefaults": {
           "arrowcolor": "#2a3f5f",
           "arrowhead": 0,
           "arrowwidth": 1
          },
          "autotypenumbers": "strict",
          "coloraxis": {
           "colorbar": {
            "outlinewidth": 0,
            "ticks": ""
           }
          },
          "colorscale": {
           "diverging": [
            [
             0,
             "#8e0152"
            ],
            [
             0.1,
             "#c51b7d"
            ],
            [
             0.2,
             "#de77ae"
            ],
            [
             0.3,
             "#f1b6da"
            ],
            [
             0.4,
             "#fde0ef"
            ],
            [
             0.5,
             "#f7f7f7"
            ],
            [
             0.6,
             "#e6f5d0"
            ],
            [
             0.7,
             "#b8e186"
            ],
            [
             0.8,
             "#7fbc41"
            ],
            [
             0.9,
             "#4d9221"
            ],
            [
             1,
             "#276419"
            ]
           ],
           "sequential": [
            [
             0,
             "#0d0887"
            ],
            [
             0.1111111111111111,
             "#46039f"
            ],
            [
             0.2222222222222222,
             "#7201a8"
            ],
            [
             0.3333333333333333,
             "#9c179e"
            ],
            [
             0.4444444444444444,
             "#bd3786"
            ],
            [
             0.5555555555555556,
             "#d8576b"
            ],
            [
             0.6666666666666666,
             "#ed7953"
            ],
            [
             0.7777777777777778,
             "#fb9f3a"
            ],
            [
             0.8888888888888888,
             "#fdca26"
            ],
            [
             1,
             "#f0f921"
            ]
           ],
           "sequentialminus": [
            [
             0,
             "#0d0887"
            ],
            [
             0.1111111111111111,
             "#46039f"
            ],
            [
             0.2222222222222222,
             "#7201a8"
            ],
            [
             0.3333333333333333,
             "#9c179e"
            ],
            [
             0.4444444444444444,
             "#bd3786"
            ],
            [
             0.5555555555555556,
             "#d8576b"
            ],
            [
             0.6666666666666666,
             "#ed7953"
            ],
            [
             0.7777777777777778,
             "#fb9f3a"
            ],
            [
             0.8888888888888888,
             "#fdca26"
            ],
            [
             1,
             "#f0f921"
            ]
           ]
          },
          "colorway": [
           "#636efa",
           "#EF553B",
           "#00cc96",
           "#ab63fa",
           "#FFA15A",
           "#19d3f3",
           "#FF6692",
           "#B6E880",
           "#FF97FF",
           "#FECB52"
          ],
          "font": {
           "color": "#2a3f5f"
          },
          "geo": {
           "bgcolor": "white",
           "lakecolor": "white",
           "landcolor": "#E5ECF6",
           "showlakes": true,
           "showland": true,
           "subunitcolor": "white"
          },
          "hoverlabel": {
           "align": "left"
          },
          "hovermode": "closest",
          "mapbox": {
           "style": "light"
          },
          "paper_bgcolor": "white",
          "plot_bgcolor": "#E5ECF6",
          "polar": {
           "angularaxis": {
            "gridcolor": "white",
            "linecolor": "white",
            "ticks": ""
           },
           "bgcolor": "#E5ECF6",
           "radialaxis": {
            "gridcolor": "white",
            "linecolor": "white",
            "ticks": ""
           }
          },
          "scene": {
           "xaxis": {
            "backgroundcolor": "#E5ECF6",
            "gridcolor": "white",
            "gridwidth": 2,
            "linecolor": "white",
            "showbackground": true,
            "ticks": "",
            "zerolinecolor": "white"
           },
           "yaxis": {
            "backgroundcolor": "#E5ECF6",
            "gridcolor": "white",
            "gridwidth": 2,
            "linecolor": "white",
            "showbackground": true,
            "ticks": "",
            "zerolinecolor": "white"
           },
           "zaxis": {
            "backgroundcolor": "#E5ECF6",
            "gridcolor": "white",
            "gridwidth": 2,
            "linecolor": "white",
            "showbackground": true,
            "ticks": "",
            "zerolinecolor": "white"
           }
          },
          "shapedefaults": {
           "line": {
            "color": "#2a3f5f"
           }
          },
          "ternary": {
           "aaxis": {
            "gridcolor": "white",
            "linecolor": "white",
            "ticks": ""
           },
           "baxis": {
            "gridcolor": "white",
            "linecolor": "white",
            "ticks": ""
           },
           "bgcolor": "#E5ECF6",
           "caxis": {
            "gridcolor": "white",
            "linecolor": "white",
            "ticks": ""
           }
          },
          "title": {
           "x": 0.05
          },
          "xaxis": {
           "automargin": true,
           "gridcolor": "white",
           "linecolor": "white",
           "ticks": "",
           "title": {
            "standoff": 15
           },
           "zerolinecolor": "white",
           "zerolinewidth": 2
          },
          "yaxis": {
           "automargin": true,
           "gridcolor": "white",
           "linecolor": "white",
           "ticks": "",
           "title": {
            "standoff": 15
           },
           "zerolinecolor": "white",
           "zerolinewidth": 2
          }
         }
        },
        "title": {
         "text": "実行時間"
        },
        "xaxis": {
         "anchor": "y",
         "domain": [
          0,
          1
         ],
         "title": {
          "text": "x"
         }
        },
        "yaxis": {
         "anchor": "x",
         "domain": [
          0,
          1
         ],
         "title": {
          "text": "y"
         }
        }
       }
      }
     },
     "metadata": {},
     "output_type": "display_data"
    }
   ],
   "source": [
    "px.bar(x=[\"pandas\", \"DuckDB\"], y=[time_diff_pandas, time_diff_duckdb], title=\"実行時間\")"
   ]
  }
 ],
 "metadata": {
  "kernelspec": {
   "display_name": ".venv",
   "language": "python",
   "name": "python3"
  },
  "language_info": {
   "codemirror_mode": {
    "name": "ipython",
    "version": 3
   },
   "file_extension": ".py",
   "mimetype": "text/x-python",
   "name": "python",
   "nbconvert_exporter": "python",
   "pygments_lexer": "ipython3",
   "version": "3.12.5"
  }
 },
 "nbformat": 4,
 "nbformat_minor": 2
}
