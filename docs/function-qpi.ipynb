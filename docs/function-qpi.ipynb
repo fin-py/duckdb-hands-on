{
 "cells": [
  {
   "cell_type": "markdown",
   "metadata": {},
   "source": [
    "# Function API\n",
    "\n",
    "- Python関数からDuckDBユーザー定義関数(UDF)を作成\n",
    "- SQLクエリで利用できる"
   ]
  },
  {
   "cell_type": "code",
   "execution_count": 1,
   "metadata": {},
   "outputs": [
    {
     "name": "stdout",
     "output_type": "stream",
     "text": [
      "┌──────────────┐\n",
      "│ function_oid │\n",
      "│    int64     │\n",
      "├──────────────┤\n",
      "│            8 │\n",
      "│         1222 │\n",
      "│         1824 │\n",
      "│         1818 │\n",
      "│         1818 │\n",
      "└──────────────┘\n",
      "\n"
     ]
    }
   ],
   "source": [
    "import duckdb\n",
    "\n",
    "function_oid = duckdb.sql(\"SELECT function_oid FROM duckdb_functions() LIMIT 5\")\n",
    "function_oid.show()"
   ]
  },
  {
   "cell_type": "markdown",
   "metadata": {},
   "source": [
    "関数を定義"
   ]
  },
  {
   "cell_type": "code",
   "execution_count": 2,
   "metadata": {},
   "outputs": [],
   "source": [
    "def pow_plus_one(x):\n",
    "    return x**2 + 1"
   ]
  },
  {
   "cell_type": "markdown",
   "metadata": {},
   "source": [
    "## create_function\n",
    "\n",
    "- name: DuckDBに定義する関数の名前\n",
    "- function: 登録する関数\n",
    "- parameters: 関数に渡す引数の型のリスト\n",
    "- return_type: 返り値の型\n",
    "- type (Optional): 関数の種類、組込みのPython `native` （デフォルト）、PyArrowテーブル `arrow`\n",
    "- null_handling (Optional): null値の扱い、デフォルト（ `None` ）ではNull-In Null-Out 、 `special` でnull値の扱いを指定\n",
    "- exception_handling (Optional): 例外の扱い、デフォルト（ `None` ）ではPythonの例外が送出、 `return_null` でnullを返す\n",
    "- side_effects (Optional): デフォルト（ `False` ）では同じ入力に同じ結果を返し、関数の結果がランダム性などの影響を受ける場合は `True` にする"
   ]
  },
  {
   "cell_type": "code",
   "execution_count": 3,
   "metadata": {},
   "outputs": [
    {
     "name": "stderr",
     "output_type": "stream",
     "text": [
      "/tmp/ipykernel_154855/610389414.py:1: DeprecationWarning: numpy.core is deprecated and has been renamed to numpy._core. The numpy._core namespace contains private NumPy internals and its use is discouraged, as NumPy internals can change without warning in any release. In practice, most real-world usage of numpy.core is to access functionality in the public NumPy API. If that is the case, use the public NumPy API. If not, you are using NumPy internals. If you would still like to access an internal attribute, use numpy._core.multiarray.\n",
      "  duckdb.create_function(\"pow_plus_one\", pow_plus_one, [float], float)\n"
     ]
    },
    {
     "data": {
      "text/plain": [
       "<duckdb.duckdb.DuckDBPyConnection at 0x7f035434b470>"
      ]
     },
     "execution_count": 3,
     "metadata": {},
     "output_type": "execute_result"
    }
   ],
   "source": [
    "duckdb.create_function(\"pow_plus_one\", pow_plus_one, [float], float)"
   ]
  },
  {
   "cell_type": "code",
   "execution_count": 4,
   "metadata": {},
   "outputs": [
    {
     "data": {
      "text/plain": [
       "┌────────────────────────────┐\n",
       "│ pow_plus_one(function_oid) │\n",
       "│           double           │\n",
       "├────────────────────────────┤\n",
       "│                       65.0 │\n",
       "│                  1493285.0 │\n",
       "│                  3326977.0 │\n",
       "│                  3305125.0 │\n",
       "│                  3305125.0 │\n",
       "└────────────────────────────┘"
      ]
     },
     "execution_count": 4,
     "metadata": {},
     "output_type": "execute_result"
    }
   ],
   "source": [
    "duckdb.sql(\"SELECT pow_plus_one(function_oid) FROM function_oid\")"
   ]
  },
  {
   "cell_type": "markdown",
   "metadata": {},
   "source": [
    "関数の定義を削除"
   ]
  },
  {
   "cell_type": "code",
   "execution_count": 5,
   "metadata": {},
   "outputs": [
    {
     "data": {
      "text/plain": [
       "<duckdb.duckdb.DuckDBPyConnection at 0x7f035434b470>"
      ]
     },
     "execution_count": 5,
     "metadata": {},
     "output_type": "execute_result"
    }
   ],
   "source": [
    "duckdb.remove_function(\"pow_plus_one\")"
   ]
  },
  {
   "cell_type": "markdown",
   "metadata": {},
   "source": [
    "関数に型ヒントを定義することで、オプションのパラメータを省略できる"
   ]
  },
  {
   "cell_type": "code",
   "execution_count": 6,
   "metadata": {},
   "outputs": [
    {
     "data": {
      "text/plain": [
       "┌────────────────────────────┐\n",
       "│ pow_plus_two(function_oid) │\n",
       "│           double           │\n",
       "├────────────────────────────┤\n",
       "│                       66.0 │\n",
       "│                  1493286.0 │\n",
       "│                  3326978.0 │\n",
       "│                  3305126.0 │\n",
       "│                  3305126.0 │\n",
       "└────────────────────────────┘"
      ]
     },
     "execution_count": 6,
     "metadata": {},
     "output_type": "execute_result"
    }
   ],
   "source": [
    "def pow_plus_two(x: float) -> float:\n",
    "    return x**2 + 2\n",
    "\n",
    "\n",
    "duckdb.create_function(\"pow_plus_two\", pow_plus_two)\n",
    "duckdb.sql(\"SELECT pow_plus_two(function_oid) FROM function_oid\")"
   ]
  },
  {
   "cell_type": "markdown",
   "metadata": {},
   "source": [
    "DuckDBのデータ型を明示する場合、DuckDBPyTypeオブジェクトを指定する\n",
    "\n",
    "```{seealso}\n",
    "Types API\n",
    "\n",
    "https://duckdb.org/docs/api/python/types\n",
    "```"
   ]
  },
  {
   "cell_type": "code",
   "execution_count": 7,
   "metadata": {},
   "outputs": [
    {
     "data": {
      "text/plain": [
       "┌────────────┐\n",
       "│ nice_day() │\n",
       "│    date    │\n",
       "├────────────┤\n",
       "│ 2024-10-15 │\n",
       "└────────────┘"
      ]
     },
     "execution_count": 7,
     "metadata": {},
     "output_type": "execute_result"
    }
   ],
   "source": [
    "import datetime\n",
    "\n",
    "from duckdb.typing import DATE\n",
    "\n",
    "\n",
    "def nice_day() -> str:\n",
    "    return str(datetime.date.today())\n",
    "\n",
    "\n",
    "duckdb.create_function(\"nice_day\", nice_day, return_type=DATE)\n",
    "duckdb.sql(\"SELECT nice_day()\")"
   ]
  },
  {
   "cell_type": "markdown",
   "metadata": {},
   "source": [
    "```{seealso}\n",
    "Python Function API\n",
    "\n",
    "https://duckdb.org/docs/api/python/function\n",
    "```"
   ]
  }
 ],
 "metadata": {
  "kernelspec": {
   "display_name": ".venv",
   "language": "python",
   "name": "python3"
  },
  "language_info": {
   "codemirror_mode": {
    "name": "ipython",
    "version": 3
   },
   "file_extension": ".py",
   "mimetype": "text/x-python",
   "name": "python",
   "nbconvert_exporter": "python",
   "pygments_lexer": "ipython3",
   "version": "3.12.6"
  }
 },
 "nbformat": 4,
 "nbformat_minor": 2
}
