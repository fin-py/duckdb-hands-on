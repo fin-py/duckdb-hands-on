{
 "cells": [
  {
   "cell_type": "markdown",
   "metadata": {},
   "source": [
    "# Relational API\n",
    "\n",
    "- インクリメンタルにクエリを構築\n",
    "- `DuckDBPyRelation` ノードから呼び出す\n",
    "- SQLクエリをシンボリックに表現\n",
    "- 実行のトリガーとなるメソッドが呼び出されるまで、リレーションはデータを保持・実行しない"
   ]
  },
  {
   "cell_type": "markdown",
   "metadata": {},
   "source": [
    "## Relationの作成\n",
    "\n",
    "- `sql`\n",
    "- `from_arrow`\n",
    "- `from_df`\n",
    "- `read_csv`\n",
    "- `read_json`\n",
    "- `read_parquet`"
   ]
  },
  {
   "cell_type": "code",
   "execution_count": 1,
   "metadata": {},
   "outputs": [
    {
     "name": "stdout",
     "output_type": "stream",
     "text": [
      "┌──────────┬──────────────────────────┬────────────┬───────────────────────────────────────────┬───────────┬────────────────────┬────────────┬──────────────────┬─────────┬────────┬────────────┐\n",
      "│ tab_code │         表章項目         │ cat01_code │              2020年基準品目               │ area_code │ 地域（2020年基準） │ time_code  │ 時間軸（年・月） │  unit   │ value  │ annotation │\n",
      "│  int64   │         varchar          │   int64    │                  varchar                  │  varchar  │      varchar       │   int64    │     varchar      │ varchar │ double │   double   │\n",
      "├──────────┼──────────────────────────┼────────────┼───────────────────────────────────────────┼───────────┼────────────────────┼────────────┼──────────────────┼─────────┼────────┼────────────┤\n",
      "│        1 │ 指数                     │          1 │ 0001 総合                                 │ 13A01     │ 13100 東京都区部   │ 1970000303 │ 1970年3月        │ NULL    │   31.2 │       NULL │\n",
      "│        1 │ 指数                     │          1 │ 0001 総合                                 │ 00000     │ 全国               │ 1970000303 │ 1970年3月        │ NULL    │   30.6 │       NULL │\n",
      "│        1 │ 指数                     │          1 │ 0001 総合                                 │ 00012     │ 大都市             │ 1970000303 │ 1970年3月        │ NULL    │   30.8 │       NULL │\n",
      "│        1 │ 指数                     │          1 │ 0001 総合                                 │ 00013     │ 中都市             │ 1970000303 │ 1970年3月        │ NULL    │   30.9 │       NULL │\n",
      "│        1 │ 指数                     │          1 │ 0001 総合                                 │ 00018     │ 小都市Ａ           │ 1970000303 │ 1970年3月        │ NULL    │   30.3 │       NULL │\n",
      "│        1 │ 指数                     │          1 │ 0001 総合                                 │ 00042     │ 北海道地方         │ 1970000303 │ 1970年3月        │ NULL    │   32.0 │       NULL │\n",
      "│        1 │ 指数                     │          1 │ 0001 総合                                 │ 00043     │ 東北地方           │ 1970000303 │ 1970年3月        │ NULL    │   30.0 │       NULL │\n",
      "│        1 │ 指数                     │          1 │ 0001 総合                                 │ 00044     │ 関東地方           │ 1970000303 │ 1970年3月        │ NULL    │   30.7 │       NULL │\n",
      "│        1 │ 指数                     │          1 │ 0001 総合                                 │ 00049     │ 北陸地方           │ 1970000303 │ 1970年3月        │ NULL    │   30.5 │       NULL │\n",
      "│        1 │ 指数                     │          1 │ 0001 総合                                 │ 00050     │ 東海地方           │ 1970000303 │ 1970年3月        │ NULL    │   30.7 │       NULL │\n",
      "│        · │  ·                       │          · │     ·                                     │   ·       │    ·               │      ·     │     ·            │ ·       │     ·  │         ·  │\n",
      "│        · │  ·                       │          · │     ·                                     │   ·       │    ·               │      ·     │     ·            │ ·       │     ·  │         ·  │\n",
      "│        · │  ·                       │          · │     ·                                     │   ·       │    ·               │      ·     │     ·            │ ·       │     ·  │         ·  │\n",
      "│        2 │ 前月比・前年比・前年度比 │        166 │ 0166 持家の帰属家賃及び生鮮食品を除く総合 │ 02A01     │ 02201 青森市       │ 1970000303 │ 1970年3月        │ %       │    0.5 │       NULL │\n",
      "│        2 │ 前月比・前年比・前年度比 │        166 │ 0166 持家の帰属家賃及び生鮮食品を除く総合 │ 03A01     │ 03201 盛岡市       │ 1970000303 │ 1970年3月        │ %       │    0.3 │       NULL │\n",
      "│        2 │ 前月比・前年比・前年度比 │        166 │ 0166 持家の帰属家賃及び生鮮食品を除く総合 │ 04A01     │ 04100 仙台市       │ 1970000303 │ 1970年3月        │ %       │    0.4 │       NULL │\n",
      "│        2 │ 前月比・前年比・前年度比 │        166 │ 0166 持家の帰属家賃及び生鮮食品を除く総合 │ 05A01     │ 05201 秋田市       │ 1970000303 │ 1970年3月        │ %       │    0.0 │       NULL │\n",
      "│        2 │ 前月比・前年比・前年度比 │        166 │ 0166 持家の帰属家賃及び生鮮食品を除く総合 │ 06A01     │ 06201 山形市       │ 1970000303 │ 1970年3月        │ %       │    0.5 │       NULL │\n",
      "│        2 │ 前月比・前年比・前年度比 │        166 │ 0166 持家の帰属家賃及び生鮮食品を除く総合 │ 07A01     │ 07201 福島市       │ 1970000303 │ 1970年3月        │ %       │    0.4 │       NULL │\n",
      "│        2 │ 前月比・前年比・前年度比 │        166 │ 0166 持家の帰属家賃及び生鮮食品を除く総合 │ 08A01     │ 08201 水戸市       │ 1970000303 │ 1970年3月        │ %       │   -0.1 │       NULL │\n",
      "│        2 │ 前月比・前年比・前年度比 │        166 │ 0166 持家の帰属家賃及び生鮮食品を除く総合 │ 09A01     │ 09201 宇都宮市     │ 1970000303 │ 1970年3月        │ %       │    0.2 │       NULL │\n",
      "│        2 │ 前月比・前年比・前年度比 │        166 │ 0166 持家の帰属家賃及び生鮮食品を除く総合 │ 10A01     │ 10201 前橋市       │ 1970000303 │ 1970年3月        │ %       │   -0.1 │       NULL │\n",
      "│        2 │ 前月比・前年比・前年度比 │        166 │ 0166 持家の帰属家賃及び生鮮食品を除く総合 │ 11A01     │ 11100 さいたま市   │ 1970000303 │ 1970年3月        │ %       │    0.0 │       NULL │\n",
      "├──────────┴──────────────────────────┴────────────┴───────────────────────────────────────────┴───────────┴────────────────────┴────────────┴──────────────────┴─────────┴────────┴────────────┤\n",
      "│ ? rows (>9999 rows, 20 shown)                                                                                                                                                      11 columns │\n",
      "└───────────────────────────────────────────────────────────────────────────────────────────────────────────────────────────────────────────────────────────────────────────────────────────────┘\n",
      "\n"
     ]
    }
   ],
   "source": [
    "import duckdb\n",
    "\n",
    "cpi = duckdb.sql(\n",
    "    \"SELECT * FROM 'https://pub-5c988f48e21d45ec95c1e3eca8ab1787.r2.dev/0003427113.parquet'\"\n",
    ")\n",
    "cpi.show()"
   ]
  },
  {
   "cell_type": "markdown",
   "metadata": {},
   "source": [
    "```{note}\n",
    "- 13009354のデータを計算するRelationsが即座に構築されている\n",
    "- サマリの表示（ `show()` ）が即座に出力される\n",
    "```"
   ]
  },
  {
   "cell_type": "markdown",
   "metadata": {},
   "source": [
    "Relationは `FROM` 句から参照できる"
   ]
  },
  {
   "cell_type": "code",
   "execution_count": 2,
   "metadata": {},
   "outputs": [
    {
     "name": "stdout",
     "output_type": "stream",
     "text": [
      "┌──────────┐\n",
      "│ tab_code │\n",
      "│  int64   │\n",
      "├──────────┤\n",
      "│        1 │\n",
      "│        3 │\n",
      "│        2 │\n",
      "└──────────┘\n",
      "\n"
     ]
    }
   ],
   "source": [
    "tab_code = duckdb.sql(\"SELECT DISTINCT(tab_code) from cpi\")\n",
    "tab_code.show()"
   ]
  },
  {
   "cell_type": "markdown",
   "metadata": {},
   "source": [
    "## オペレーション\n",
    "\n",
    "- Relationからメソッドを実行してデータを操作できる\n",
    "- 実行結果はRelationで返される"
   ]
  },
  {
   "cell_type": "markdown",
   "metadata": {},
   "source": [
    "集約関数を適用:\n",
    "\n",
    "`aggregate(expr, groups = {})`"
   ]
  },
  {
   "cell_type": "code",
   "execution_count": 3,
   "metadata": {},
   "outputs": [
    {
     "data": {
      "text/plain": [
       "┌───────────────┬───────────────┐\n",
       "│ min(tab_code) │ max(tab_code) │\n",
       "│     int64     │     int64     │\n",
       "├───────────────┼───────────────┤\n",
       "│             1 │             3 │\n",
       "└───────────────┴───────────────┘"
      ]
     },
     "execution_count": 3,
     "metadata": {},
     "output_type": "execute_result"
    }
   ],
   "source": [
    "cpi.aggregate(\"min(tab_code), max(tab_code)\")"
   ]
  },
  {
   "cell_type": "markdown",
   "metadata": {},
   "source": [
    "式を適用\n",
    "\n",
    "`project(expr)`"
   ]
  },
  {
   "cell_type": "code",
   "execution_count": 4,
   "metadata": {},
   "outputs": [
    {
     "data": {
      "text/plain": [
       "┌──────────────────┐\n",
       "│ (tab_code + 100) │\n",
       "│      int64       │\n",
       "├──────────────────┤\n",
       "│              102 │\n",
       "│              103 │\n",
       "│              101 │\n",
       "└──────────────────┘"
      ]
     },
     "execution_count": 4,
     "metadata": {},
     "output_type": "execute_result"
    }
   ],
   "source": [
    "tab_code.project(\"tab_code + 100\")"
   ]
  },
  {
   "cell_type": "markdown",
   "metadata": {},
   "source": [
    "n行を選択\n",
    "\n",
    "`limit(n, offset = 0)`"
   ]
  },
  {
   "cell_type": "code",
   "execution_count": 5,
   "metadata": {},
   "outputs": [
    {
     "data": {
      "text/plain": [
       "┌──────────┐\n",
       "│ tab_code │\n",
       "│  int64   │\n",
       "├──────────┤\n",
       "│        2 │\n",
       "│        1 │\n",
       "└──────────┘"
      ]
     },
     "execution_count": 5,
     "metadata": {},
     "output_type": "execute_result"
    }
   ],
   "source": [
    "tab_code.limit(2)"
   ]
  },
  {
   "cell_type": "markdown",
   "metadata": {},
   "source": [
    "ソート\n",
    "\n",
    "`order(expr)`"
   ]
  },
  {
   "cell_type": "code",
   "execution_count": 6,
   "metadata": {},
   "outputs": [
    {
     "data": {
      "text/plain": [
       "┌──────────┐\n",
       "│ tab_code │\n",
       "│  int64   │\n",
       "├──────────┤\n",
       "│        3 │\n",
       "│        2 │\n",
       "│        1 │\n",
       "└──────────┘"
      ]
     },
     "execution_count": 6,
     "metadata": {},
     "output_type": "execute_result"
    }
   ],
   "source": [
    "tab_code.order(\"tab_code DESC\")"
   ]
  },
  {
   "cell_type": "markdown",
   "metadata": {},
   "source": [
    "元のRelationにあり、relに存在しない行\n",
    "\n",
    "`except_(rel)`"
   ]
  },
  {
   "cell_type": "code",
   "execution_count": 7,
   "metadata": {},
   "outputs": [
    {
     "data": {
      "text/plain": [
       "┌──────────┐\n",
       "│ tab_code │\n",
       "│  int64   │\n",
       "├──────────┤\n",
       "│        2 │\n",
       "└──────────┘"
      ]
     },
     "execution_count": 7,
     "metadata": {},
     "output_type": "execute_result"
    }
   ],
   "source": [
    "tab_code.except_(tab_code.limit(2))"
   ]
  },
  {
   "cell_type": "markdown",
   "metadata": {},
   "source": [
    "両方に存在する行\n",
    "\n",
    "`intersect(rel)`"
   ]
  },
  {
   "cell_type": "code",
   "execution_count": 8,
   "metadata": {},
   "outputs": [
    {
     "data": {
      "text/plain": [
       "┌──────────┐\n",
       "│ tab_code │\n",
       "│  int64   │\n",
       "├──────────┤\n",
       "│        3 │\n",
       "│        2 │\n",
       "└──────────┘"
      ]
     },
     "execution_count": 8,
     "metadata": {},
     "output_type": "execute_result"
    }
   ],
   "source": [
    "tab_code.intersect(tab_code.limit(2))"
   ]
  },
  {
   "cell_type": "markdown",
   "metadata": {},
   "source": [
    "結合\n",
    "\n",
    "`union(rel)`"
   ]
  },
  {
   "cell_type": "code",
   "execution_count": 9,
   "metadata": {},
   "outputs": [
    {
     "data": {
      "text/plain": [
       "┌──────────┐\n",
       "│ tab_code │\n",
       "│  int64   │\n",
       "├──────────┤\n",
       "│        3 │\n",
       "│        1 │\n",
       "│        2 │\n",
       "│        3 │\n",
       "│        2 │\n",
       "└──────────┘"
      ]
     },
     "execution_count": 9,
     "metadata": {},
     "output_type": "execute_result"
    }
   ],
   "source": [
    "tab_code.union(tab_code.limit(2))"
   ]
  },
  {
   "cell_type": "markdown",
   "metadata": {},
   "source": [
    "条件に満たす行を抽出\n",
    "\n",
    "`filter(condition)`"
   ]
  },
  {
   "cell_type": "code",
   "execution_count": 10,
   "metadata": {},
   "outputs": [
    {
     "data": {
      "text/plain": [
       "┌──────────┐\n",
       "│ tab_code │\n",
       "│  int64   │\n",
       "├──────────┤\n",
       "│        3 │\n",
       "└──────────┘"
      ]
     },
     "execution_count": 10,
     "metadata": {},
     "output_type": "execute_result"
    }
   ],
   "source": [
    "tab_code.filter(\"tab_code > 2\")"
   ]
  },
  {
   "cell_type": "markdown",
   "metadata": {},
   "source": [
    "条件に基づいた結合\n",
    "\n",
    "`join(rel, condition, type = \"inner\")`"
   ]
  },
  {
   "cell_type": "code",
   "execution_count": 11,
   "metadata": {},
   "outputs": [],
   "source": [
    "r1 = duckdb.sql(\n",
    "    \"SELECT area_code, cat01_code, value FROM cpi WHERE time_code = '1970000303' AND cat01_code = 1\"\n",
    ").set_alias(\"r1\")\n",
    "r2 = duckdb.sql(\n",
    "    \"SELECT area_code, cat01_code, value FROM cpi WHERE time_code = '1970000404' AND cat01_code = 1\"\n",
    ").set_alias(\"r2\")"
   ]
  },
  {
   "cell_type": "code",
   "execution_count": 12,
   "metadata": {},
   "outputs": [
    {
     "data": {
      "text/plain": [
       "┌───────────┬────────────┬────────┬───────────┬────────────┬────────┐\n",
       "│ area_code │ cat01_code │ value  │ area_code │ cat01_code │ value  │\n",
       "│  varchar  │   int64    │ double │  varchar  │   int64    │ double │\n",
       "├───────────┼────────────┼────────┼───────────┼────────────┼────────┤\n",
       "│ 13A01     │          1 │   31.2 │ 13A01     │          1 │    0.6 │\n",
       "│ 00000     │          1 │   30.6 │ 00000     │          1 │    0.9 │\n",
       "│ 00012     │          1 │   30.8 │ 00012     │          1 │    0.8 │\n",
       "│ 00013     │          1 │   30.9 │ 00013     │          1 │    1.1 │\n",
       "│ 00018     │          1 │   30.3 │ 00018     │          1 │    0.9 │\n",
       "│ 00042     │          1 │   32.0 │ 00042     │          1 │    0.7 │\n",
       "│ 00043     │          1 │   30.0 │ 00043     │          1 │    0.8 │\n",
       "│ 00044     │          1 │   30.7 │ 00044     │          1 │    0.6 │\n",
       "│ 00049     │          1 │   30.5 │ 00049     │          1 │    1.3 │\n",
       "│ 00050     │          1 │   30.7 │ 00050     │          1 │    0.7 │\n",
       "│   ·       │          · │     ·  │   ·       │          · │     ·  │\n",
       "│   ·       │          · │     ·  │   ·       │          · │     ·  │\n",
       "│   ·       │          · │     ·  │   ·       │          · │     ·  │\n",
       "│ 40A02     │          1 │    1.2 │ 40A02     │          1 │   31.8 │\n",
       "│ 41A01     │          1 │    0.6 │ 41A01     │          1 │   31.1 │\n",
       "│ 42A01     │          1 │    1.0 │ 42A01     │          1 │   29.7 │\n",
       "│ 43A01     │          1 │    1.1 │ 43A01     │          1 │   32.5 │\n",
       "│ 44A01     │          1 │    0.7 │ 44A01     │          1 │   32.3 │\n",
       "│ 45A01     │          1 │    0.7 │ 45A01     │          1 │   33.1 │\n",
       "│ 46A01     │          1 │    0.7 │ 46A01     │          1 │   30.7 │\n",
       "│ 40A01     │          1 │    0.5 │ 40A01     │          1 │   29.8 │\n",
       "│ 31A01     │          1 │    0.8 │ 31A01     │          1 │   31.6 │\n",
       "│ 37A01     │          1 │    0.4 │ 37A01     │          1 │   31.6 │\n",
       "├───────────┴────────────┴────────┴───────────┴────────────┴────────┤\n",
       "│ 240 rows (20 shown)                                     6 columns │\n",
       "└───────────────────────────────────────────────────────────────────┘"
      ]
     },
     "execution_count": 12,
     "metadata": {},
     "output_type": "execute_result"
    }
   ],
   "source": [
    "r1.join(r2, \"r1.area_code = r2.area_code\")"
   ]
  },
  {
   "cell_type": "markdown",
   "metadata": {},
   "source": [
    "または\n",
    "\n",
    "```{seealso}\n",
    "`ColumnExpression` :\n",
    "\n",
    "[](./expression-api.ipynb)\n",
    "```"
   ]
  },
  {
   "cell_type": "code",
   "execution_count": 13,
   "metadata": {},
   "outputs": [
    {
     "data": {
      "text/plain": [
       "┌───────────┬────────────┬────────┬───────────┬────────────┬────────┐\n",
       "│ area_code │ cat01_code │ value  │ area_code │ cat01_code │ value  │\n",
       "│  varchar  │   int64    │ double │  varchar  │   int64    │ double │\n",
       "├───────────┼────────────┼────────┼───────────┼────────────┼────────┤\n",
       "│ 13A01     │          1 │   31.2 │ 13A01     │          1 │    0.6 │\n",
       "│ 00000     │          1 │   30.6 │ 00000     │          1 │    0.9 │\n",
       "│ 00012     │          1 │   30.8 │ 00012     │          1 │    0.8 │\n",
       "│ 00013     │          1 │   30.9 │ 00013     │          1 │    1.1 │\n",
       "│ 00018     │          1 │   30.3 │ 00018     │          1 │    0.9 │\n",
       "│ 00042     │          1 │   32.0 │ 00042     │          1 │    0.7 │\n",
       "│ 00043     │          1 │   30.0 │ 00043     │          1 │    0.8 │\n",
       "│ 00044     │          1 │   30.7 │ 00044     │          1 │    0.6 │\n",
       "│ 00049     │          1 │   30.5 │ 00049     │          1 │    1.3 │\n",
       "│ 00050     │          1 │   30.7 │ 00050     │          1 │    0.7 │\n",
       "│   ·       │          · │     ·  │   ·       │          · │     ·  │\n",
       "│   ·       │          · │     ·  │   ·       │          · │     ·  │\n",
       "│   ·       │          · │     ·  │   ·       │          · │     ·  │\n",
       "│ 40A02     │          1 │    1.2 │ 40A02     │          1 │   31.8 │\n",
       "│ 41A01     │          1 │    0.6 │ 41A01     │          1 │   31.1 │\n",
       "│ 42A01     │          1 │    1.0 │ 42A01     │          1 │   29.7 │\n",
       "│ 43A01     │          1 │    1.1 │ 43A01     │          1 │   32.5 │\n",
       "│ 44A01     │          1 │    0.7 │ 44A01     │          1 │   32.3 │\n",
       "│ 45A01     │          1 │    0.7 │ 45A01     │          1 │   33.1 │\n",
       "│ 46A01     │          1 │    0.7 │ 46A01     │          1 │   30.7 │\n",
       "│ 40A01     │          1 │    0.5 │ 40A01     │          1 │   29.8 │\n",
       "│ 31A01     │          1 │    0.8 │ 31A01     │          1 │   31.6 │\n",
       "│ 37A01     │          1 │    0.4 │ 37A01     │          1 │   31.6 │\n",
       "├───────────┴────────────┴────────┴───────────┴────────────┴────────┤\n",
       "│ 240 rows (20 shown)                                     6 columns │\n",
       "└───────────────────────────────────────────────────────────────────┘"
      ]
     },
     "execution_count": 13,
     "metadata": {},
     "output_type": "execute_result"
    }
   ],
   "source": [
    "cols = [\n",
    "    duckdb.ColumnExpression(\"area_code\"),\n",
    "    duckdb.ColumnExpression(\"cat01_code\"),\n",
    "    duckdb.ColumnExpression(\"value\"),\n",
    "]\n",
    "r1 = (\n",
    "    duckdb.sql(\"SELECT * FROM cpi\")\n",
    "    .filter(\"time_code = '1970000303' AND cat01_code = 1\")\n",
    "    .select(*cols)\n",
    ").set_alias(\"r1\")\n",
    "r2 = (\n",
    "    duckdb.sql(\"SELECT * FROM cpi\")\n",
    "    .filter(\"time_code = '1970000404' AND cat01_code = 1\")\n",
    "    .select(*cols)\n",
    ").set_alias(\"r2\")\n",
    "r1.join(r2, \"r1.area_code = r2.area_code\")"
   ]
  }
 ],
 "metadata": {
  "kernelspec": {
   "display_name": ".venv",
   "language": "python",
   "name": "python3"
  },
  "language_info": {
   "codemirror_mode": {
    "name": "ipython",
    "version": 3
   },
   "file_extension": ".py",
   "mimetype": "text/x-python",
   "name": "python",
   "nbconvert_exporter": "python",
   "pygments_lexer": "ipython3",
   "version": "3.12.5"
  }
 },
 "nbformat": 4,
 "nbformat_minor": 2
}
